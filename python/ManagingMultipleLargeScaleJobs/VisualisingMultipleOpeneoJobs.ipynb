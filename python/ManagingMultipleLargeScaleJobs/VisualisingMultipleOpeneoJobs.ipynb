{
 "cells": [
  {
   "cell_type": "markdown",
   "metadata": {},
   "source": [
    "# Geospatial Job Management and Visualization with OpenEO\n",
    "\n",
    "When executing algorithms across large spatial areas, it is often necessary to divide the area of interest into smaller regions and run the algorithm on each region independently. To streamline this process and manage multiple jobs simultaneously, the `MultiBackendJobManager` was developed.\n",
    "\n",
    "In this example, we demonstrate how to process an algorithm across a grid of smaller tiles and visualize job statuses using interactive maps. Our use case involves calculating `Best Available Pixel Composites`, using an openEO Process hosted in the [APEX repository](https://github.com/ESA-APEx).\n",
    "\n",
    "We will go through the following steps:\n",
    "1. **Import the required packages**\n",
    "2. **Generate a Spatial Grid for the Antwerp Region**\n",
    "3. **Prepare Jobs for Parallel Processing**\n",
    "4. **Prepare Job visualization with a Custom Color Mapping**\n",
    "5. **Run the Jobs with MultiBackendJobManager**\n"
   ]
  },
  {
   "cell_type": "markdown",
   "metadata": {},
   "source": [
    "### 1. Import the required packages\n",
    "\n",
    "Before we start, we install the required non-native packages needed this notebook example. "
   ]
  },
  {
   "cell_type": "code",
   "execution_count": null,
   "metadata": {},
   "outputs": [],
   "source": [
    "!pip install shapely geopandas plotly nbformat kaleido"
   ]
  },
  {
   "cell_type": "code",
   "execution_count": 7,
   "metadata": {},
   "outputs": [],
   "source": [
    "import time\n",
    "import numpy as np\n",
    "import pandas as pd\n",
    "import geopandas as gpd\n",
    "from shapely.geometry import box\n",
    "import copy\n",
    "from shapely import wkt\n",
    "\n",
    "import openeo\n",
    "from openeo.extra.job_management import (\n",
    "        CsvJobDatabase,\n",
    "        ProcessBasedJobCreator,\n",
    "        MultiBackendJobManager\n",
    "    )\n",
    "\n",
    "import plotly.express as px\n",
    "from plotly import offline\n",
    "from IPython.display import clear_output\n"
   ]
  },
  {
   "cell_type": "markdown",
   "metadata": {},
   "source": [
    "\n",
    "## 2. Generate a Spatial-Temporal Grid for the Antwerp Region\n",
    "\n",
    "To manage our large-scale task efficiently, we will execute the workflow across smaller tiles that together cover the entire area of interest. This spatial grid subdivides the region into manageable sections, making data processing and analysis more scalable. In addition, we add an additional temporal extent of interest to the dataframe."
   ]
  },
  {
   "cell_type": "code",
   "execution_count": 15,
   "metadata": {},
   "outputs": [],
   "source": [
    "def create_tiling_grid(grid_size_m=5000, minx=590000, miny=5660000):\n",
    "    \"\"\"\n",
    "    Creates a square tiling grid with specified dimensions and saves it as a GeoJSON file.\n",
    "    \n",
    "    Parameters:\n",
    "        grid_size_m (int): Size of each grid cell in meters (default: 5000).\n",
    "        minx (int): Minimum x-coordinate in UTM for grid bounding box.\n",
    "        miny (int): Minimum y-coordinate in UTM for grid bounding box.\n",
    "        output_path (str): File path to save the output GeoJSON file.\n",
    "\n",
    "    Returns:\n",
    "        None\n",
    "    \"\"\"\n",
    "    # Fixed CRS codes\n",
    "    crs_utm = \"EPSG:32631\"\n",
    "    crs_latlon = \"EPSG:4326\"\n",
    "    \n",
    "    # Calculate max coordinates for the grid\n",
    "    maxx = minx + 2 * grid_size_m\n",
    "    maxy = miny + 2 * grid_size_m\n",
    "\n",
    "    # Generate coordinates for grid\n",
    "    x_coords = np.arange(minx, maxx, grid_size_m)\n",
    "    y_coords = np.arange(miny, maxy, grid_size_m)\n",
    "    \n",
    "    # Create polygons for the grid cells\n",
    "    polygons = [box(x, y, x + grid_size_m, y + grid_size_m) for x in x_coords for y in y_coords]\n",
    "\n",
    "    # Create GeoDataFrame in UTM CRS\n",
    "    grid_gdf_utm = gpd.GeoDataFrame({'geometry': polygons}, crs=crs_utm)\n",
    "    \n",
    "    # Convert to latitude/longitude CRS\n",
    "    grid_gdf_latlon = grid_gdf_utm.to_crs(crs_latlon)\n",
    "    grid_gdf_latlon['id'] = range(len(grid_gdf_latlon))\n",
    "\n",
    "    # Save to GeoJSON file\n",
    "    return grid_gdf_latlon\n",
    "\n",
    "grid_df = create_tiling_grid()\n",
    "\n"
   ]
  },
  {
   "cell_type": "markdown",
   "metadata": {},
   "source": [
    "### Visualize the tiling grid\n",
    "\n",
    "We use Plotly to create an interactive visualization of the spatial grid. This allows us to examine the layout of tiles across the area of interest and ensure that the grid aligns correctly with our region."
   ]
  },
  {
   "cell_type": "code",
   "execution_count": null,
   "metadata": {},
   "outputs": [
    {
     "data": {
      "application/vnd.plotly.v1+json": {
       "config": {
        "plotlyServerURL": "https://plot.ly"
       },
       "data": [
        {
         "colorscale": [
          [
           0,
           "#636efa"
          ],
          [
           1,
           "#636efa"
          ]
         ],
         "geojson": {
          "bbox": [
           4.284962958545277,
           51.082781192120265,
           4.430466249243753,
           51.17433762905858
          ],
          "features": [
           {
            "bbox": [
             4.284962958545277,
             51.08363102606288,
             4.357645304773775,
             51.12938765359171
            ],
            "geometry": {
             "coordinates": [
              [
               [
                4.35632893250526,
                51.08363102606288
               ],
               [
                4.357645304773775,
                51.12858008385103
               ],
               [
                4.286210115056352,
                51.12938765359171
               ],
               [
                4.284962958545277,
                51.08443730870333
               ],
               [
                4.35632893250526,
                51.08363102606288
               ]
              ]
             ],
             "type": "Polygon"
            },
            "id": "0",
            "properties": {
             "id": 0
            },
            "type": "Feature"
           },
           {
            "bbox": [
             4.286210115056352,
             51.12858008385103,
             4.358965069355727,
             51.17433762905858
            ],
            "geometry": {
             "coordinates": [
              [
               [
                4.357645304773775,
                51.12858008385103
               ],
               [
                4.358965069355727,
                51.17352876972812
               ],
               [
                4.287460485650376,
                51.17433762905858
               ],
               [
                4.286210115056352,
                51.12938765359171
               ],
               [
                4.357645304773775,
                51.12858008385103
               ]
              ]
             ],
             "type": "Polygon"
            },
            "id": "1",
            "properties": {
             "id": 1
            },
            "type": "Feature"
           },
           {
            "bbox": [
             4.35632893250526,
             51.082781192120265,
             4.429077102186661,
             51.12858008385103
            ],
            "geometry": {
             "coordinates": [
              [
               [
                4.427691525620092,
                51.082781192120265
               ],
               [
                4.429077102186661,
                51.12772889333409
               ],
               [
                4.357645304773775,
                51.12858008385103
               ],
               [
                4.35632893250526,
                51.08363102606288
               ],
               [
                4.427691525620092,
                51.082781192120265
               ]
              ]
             ],
             "type": "Polygon"
            },
            "id": "2",
            "properties": {
             "id": 2
            },
            "type": "Feature"
           },
           {
            "bbox": [
             4.357645304773775,
             51.12772889333409,
             4.430466249243753,
             51.17352876972812
            ],
            "geometry": {
             "coordinates": [
              [
               [
                4.429077102186661,
                51.12772889333409
               ],
               [
                4.430466249243753,
                51.17267622001317
               ],
               [
                4.358965069355727,
                51.17352876972812
               ],
               [
                4.357645304773775,
                51.12858008385103
               ],
               [
                4.429077102186661,
                51.12772889333409
               ]
              ]
             ],
             "type": "Polygon"
            },
            "id": "3",
            "properties": {
             "id": 3
            },
            "type": "Feature"
           }
          ],
          "type": "FeatureCollection"
         },
         "hovertemplate": "index=%{location}<extra></extra>",
         "locations": [
          0,
          1,
          2,
          3
         ],
         "name": "",
         "showlegend": true,
         "showscale": false,
         "subplot": "mapbox",
         "type": "choroplethmapbox",
         "z": [
          1,
          1,
          1,
          1
         ]
        }
       ],
       "layout": {
        "geo": {
         "fitbounds": "locations"
        },
        "legend": {
         "tracegroupgap": 0
        },
        "mapbox": {
         "center": {
          "lat": 51.15,
          "lon": 4.4
         },
         "domain": {
          "x": [
           0,
           1
          ],
          "y": [
           0,
           1
          ]
         },
         "style": "carto-positron",
         "zoom": 8
        },
        "margin": {
         "b": 0,
         "l": 0,
         "r": 0,
         "t": 0
        },
        "template": {
         "data": {
          "bar": [
           {
            "error_x": {
             "color": "#2a3f5f"
            },
            "error_y": {
             "color": "#2a3f5f"
            },
            "marker": {
             "line": {
              "color": "#E5ECF6",
              "width": 0.5
             },
             "pattern": {
              "fillmode": "overlay",
              "size": 10,
              "solidity": 0.2
             }
            },
            "type": "bar"
           }
          ],
          "barpolar": [
           {
            "marker": {
             "line": {
              "color": "#E5ECF6",
              "width": 0.5
             },
             "pattern": {
              "fillmode": "overlay",
              "size": 10,
              "solidity": 0.2
             }
            },
            "type": "barpolar"
           }
          ],
          "carpet": [
           {
            "aaxis": {
             "endlinecolor": "#2a3f5f",
             "gridcolor": "white",
             "linecolor": "white",
             "minorgridcolor": "white",
             "startlinecolor": "#2a3f5f"
            },
            "baxis": {
             "endlinecolor": "#2a3f5f",
             "gridcolor": "white",
             "linecolor": "white",
             "minorgridcolor": "white",
             "startlinecolor": "#2a3f5f"
            },
            "type": "carpet"
           }
          ],
          "choropleth": [
           {
            "colorbar": {
             "outlinewidth": 0,
             "ticks": ""
            },
            "type": "choropleth"
           }
          ],
          "contour": [
           {
            "colorbar": {
             "outlinewidth": 0,
             "ticks": ""
            },
            "colorscale": [
             [
              0,
              "#0d0887"
             ],
             [
              0.1111111111111111,
              "#46039f"
             ],
             [
              0.2222222222222222,
              "#7201a8"
             ],
             [
              0.3333333333333333,
              "#9c179e"
             ],
             [
              0.4444444444444444,
              "#bd3786"
             ],
             [
              0.5555555555555556,
              "#d8576b"
             ],
             [
              0.6666666666666666,
              "#ed7953"
             ],
             [
              0.7777777777777778,
              "#fb9f3a"
             ],
             [
              0.8888888888888888,
              "#fdca26"
             ],
             [
              1,
              "#f0f921"
             ]
            ],
            "type": "contour"
           }
          ],
          "contourcarpet": [
           {
            "colorbar": {
             "outlinewidth": 0,
             "ticks": ""
            },
            "type": "contourcarpet"
           }
          ],
          "heatmap": [
           {
            "colorbar": {
             "outlinewidth": 0,
             "ticks": ""
            },
            "colorscale": [
             [
              0,
              "#0d0887"
             ],
             [
              0.1111111111111111,
              "#46039f"
             ],
             [
              0.2222222222222222,
              "#7201a8"
             ],
             [
              0.3333333333333333,
              "#9c179e"
             ],
             [
              0.4444444444444444,
              "#bd3786"
             ],
             [
              0.5555555555555556,
              "#d8576b"
             ],
             [
              0.6666666666666666,
              "#ed7953"
             ],
             [
              0.7777777777777778,
              "#fb9f3a"
             ],
             [
              0.8888888888888888,
              "#fdca26"
             ],
             [
              1,
              "#f0f921"
             ]
            ],
            "type": "heatmap"
           }
          ],
          "heatmapgl": [
           {
            "colorbar": {
             "outlinewidth": 0,
             "ticks": ""
            },
            "colorscale": [
             [
              0,
              "#0d0887"
             ],
             [
              0.1111111111111111,
              "#46039f"
             ],
             [
              0.2222222222222222,
              "#7201a8"
             ],
             [
              0.3333333333333333,
              "#9c179e"
             ],
             [
              0.4444444444444444,
              "#bd3786"
             ],
             [
              0.5555555555555556,
              "#d8576b"
             ],
             [
              0.6666666666666666,
              "#ed7953"
             ],
             [
              0.7777777777777778,
              "#fb9f3a"
             ],
             [
              0.8888888888888888,
              "#fdca26"
             ],
             [
              1,
              "#f0f921"
             ]
            ],
            "type": "heatmapgl"
           }
          ],
          "histogram": [
           {
            "marker": {
             "pattern": {
              "fillmode": "overlay",
              "size": 10,
              "solidity": 0.2
             }
            },
            "type": "histogram"
           }
          ],
          "histogram2d": [
           {
            "colorbar": {
             "outlinewidth": 0,
             "ticks": ""
            },
            "colorscale": [
             [
              0,
              "#0d0887"
             ],
             [
              0.1111111111111111,
              "#46039f"
             ],
             [
              0.2222222222222222,
              "#7201a8"
             ],
             [
              0.3333333333333333,
              "#9c179e"
             ],
             [
              0.4444444444444444,
              "#bd3786"
             ],
             [
              0.5555555555555556,
              "#d8576b"
             ],
             [
              0.6666666666666666,
              "#ed7953"
             ],
             [
              0.7777777777777778,
              "#fb9f3a"
             ],
             [
              0.8888888888888888,
              "#fdca26"
             ],
             [
              1,
              "#f0f921"
             ]
            ],
            "type": "histogram2d"
           }
          ],
          "histogram2dcontour": [
           {
            "colorbar": {
             "outlinewidth": 0,
             "ticks": ""
            },
            "colorscale": [
             [
              0,
              "#0d0887"
             ],
             [
              0.1111111111111111,
              "#46039f"
             ],
             [
              0.2222222222222222,
              "#7201a8"
             ],
             [
              0.3333333333333333,
              "#9c179e"
             ],
             [
              0.4444444444444444,
              "#bd3786"
             ],
             [
              0.5555555555555556,
              "#d8576b"
             ],
             [
              0.6666666666666666,
              "#ed7953"
             ],
             [
              0.7777777777777778,
              "#fb9f3a"
             ],
             [
              0.8888888888888888,
              "#fdca26"
             ],
             [
              1,
              "#f0f921"
             ]
            ],
            "type": "histogram2dcontour"
           }
          ],
          "mesh3d": [
           {
            "colorbar": {
             "outlinewidth": 0,
             "ticks": ""
            },
            "type": "mesh3d"
           }
          ],
          "parcoords": [
           {
            "line": {
             "colorbar": {
              "outlinewidth": 0,
              "ticks": ""
             }
            },
            "type": "parcoords"
           }
          ],
          "pie": [
           {
            "automargin": true,
            "type": "pie"
           }
          ],
          "scatter": [
           {
            "fillpattern": {
             "fillmode": "overlay",
             "size": 10,
             "solidity": 0.2
            },
            "type": "scatter"
           }
          ],
          "scatter3d": [
           {
            "line": {
             "colorbar": {
              "outlinewidth": 0,
              "ticks": ""
             }
            },
            "marker": {
             "colorbar": {
              "outlinewidth": 0,
              "ticks": ""
             }
            },
            "type": "scatter3d"
           }
          ],
          "scattercarpet": [
           {
            "marker": {
             "colorbar": {
              "outlinewidth": 0,
              "ticks": ""
             }
            },
            "type": "scattercarpet"
           }
          ],
          "scattergeo": [
           {
            "marker": {
             "colorbar": {
              "outlinewidth": 0,
              "ticks": ""
             }
            },
            "type": "scattergeo"
           }
          ],
          "scattergl": [
           {
            "marker": {
             "colorbar": {
              "outlinewidth": 0,
              "ticks": ""
             }
            },
            "type": "scattergl"
           }
          ],
          "scattermapbox": [
           {
            "marker": {
             "colorbar": {
              "outlinewidth": 0,
              "ticks": ""
             }
            },
            "type": "scattermapbox"
           }
          ],
          "scatterpolar": [
           {
            "marker": {
             "colorbar": {
              "outlinewidth": 0,
              "ticks": ""
             }
            },
            "type": "scatterpolar"
           }
          ],
          "scatterpolargl": [
           {
            "marker": {
             "colorbar": {
              "outlinewidth": 0,
              "ticks": ""
             }
            },
            "type": "scatterpolargl"
           }
          ],
          "scatterternary": [
           {
            "marker": {
             "colorbar": {
              "outlinewidth": 0,
              "ticks": ""
             }
            },
            "type": "scatterternary"
           }
          ],
          "surface": [
           {
            "colorbar": {
             "outlinewidth": 0,
             "ticks": ""
            },
            "colorscale": [
             [
              0,
              "#0d0887"
             ],
             [
              0.1111111111111111,
              "#46039f"
             ],
             [
              0.2222222222222222,
              "#7201a8"
             ],
             [
              0.3333333333333333,
              "#9c179e"
             ],
             [
              0.4444444444444444,
              "#bd3786"
             ],
             [
              0.5555555555555556,
              "#d8576b"
             ],
             [
              0.6666666666666666,
              "#ed7953"
             ],
             [
              0.7777777777777778,
              "#fb9f3a"
             ],
             [
              0.8888888888888888,
              "#fdca26"
             ],
             [
              1,
              "#f0f921"
             ]
            ],
            "type": "surface"
           }
          ],
          "table": [
           {
            "cells": {
             "fill": {
              "color": "#EBF0F8"
             },
             "line": {
              "color": "white"
             }
            },
            "header": {
             "fill": {
              "color": "#C8D4E3"
             },
             "line": {
              "color": "white"
             }
            },
            "type": "table"
           }
          ]
         },
         "layout": {
          "annotationdefaults": {
           "arrowcolor": "#2a3f5f",
           "arrowhead": 0,
           "arrowwidth": 1
          },
          "autotypenumbers": "strict",
          "coloraxis": {
           "colorbar": {
            "outlinewidth": 0,
            "ticks": ""
           }
          },
          "colorscale": {
           "diverging": [
            [
             0,
             "#8e0152"
            ],
            [
             0.1,
             "#c51b7d"
            ],
            [
             0.2,
             "#de77ae"
            ],
            [
             0.3,
             "#f1b6da"
            ],
            [
             0.4,
             "#fde0ef"
            ],
            [
             0.5,
             "#f7f7f7"
            ],
            [
             0.6,
             "#e6f5d0"
            ],
            [
             0.7,
             "#b8e186"
            ],
            [
             0.8,
             "#7fbc41"
            ],
            [
             0.9,
             "#4d9221"
            ],
            [
             1,
             "#276419"
            ]
           ],
           "sequential": [
            [
             0,
             "#0d0887"
            ],
            [
             0.1111111111111111,
             "#46039f"
            ],
            [
             0.2222222222222222,
             "#7201a8"
            ],
            [
             0.3333333333333333,
             "#9c179e"
            ],
            [
             0.4444444444444444,
             "#bd3786"
            ],
            [
             0.5555555555555556,
             "#d8576b"
            ],
            [
             0.6666666666666666,
             "#ed7953"
            ],
            [
             0.7777777777777778,
             "#fb9f3a"
            ],
            [
             0.8888888888888888,
             "#fdca26"
            ],
            [
             1,
             "#f0f921"
            ]
           ],
           "sequentialminus": [
            [
             0,
             "#0d0887"
            ],
            [
             0.1111111111111111,
             "#46039f"
            ],
            [
             0.2222222222222222,
             "#7201a8"
            ],
            [
             0.3333333333333333,
             "#9c179e"
            ],
            [
             0.4444444444444444,
             "#bd3786"
            ],
            [
             0.5555555555555556,
             "#d8576b"
            ],
            [
             0.6666666666666666,
             "#ed7953"
            ],
            [
             0.7777777777777778,
             "#fb9f3a"
            ],
            [
             0.8888888888888888,
             "#fdca26"
            ],
            [
             1,
             "#f0f921"
            ]
           ]
          },
          "colorway": [
           "#636efa",
           "#EF553B",
           "#00cc96",
           "#ab63fa",
           "#FFA15A",
           "#19d3f3",
           "#FF6692",
           "#B6E880",
           "#FF97FF",
           "#FECB52"
          ],
          "font": {
           "color": "#2a3f5f"
          },
          "geo": {
           "bgcolor": "white",
           "lakecolor": "white",
           "landcolor": "#E5ECF6",
           "showlakes": true,
           "showland": true,
           "subunitcolor": "white"
          },
          "hoverlabel": {
           "align": "left"
          },
          "hovermode": "closest",
          "mapbox": {
           "style": "light"
          },
          "paper_bgcolor": "white",
          "plot_bgcolor": "#E5ECF6",
          "polar": {
           "angularaxis": {
            "gridcolor": "white",
            "linecolor": "white",
            "ticks": ""
           },
           "bgcolor": "#E5ECF6",
           "radialaxis": {
            "gridcolor": "white",
            "linecolor": "white",
            "ticks": ""
           }
          },
          "scene": {
           "xaxis": {
            "backgroundcolor": "#E5ECF6",
            "gridcolor": "white",
            "gridwidth": 2,
            "linecolor": "white",
            "showbackground": true,
            "ticks": "",
            "zerolinecolor": "white"
           },
           "yaxis": {
            "backgroundcolor": "#E5ECF6",
            "gridcolor": "white",
            "gridwidth": 2,
            "linecolor": "white",
            "showbackground": true,
            "ticks": "",
            "zerolinecolor": "white"
           },
           "zaxis": {
            "backgroundcolor": "#E5ECF6",
            "gridcolor": "white",
            "gridwidth": 2,
            "linecolor": "white",
            "showbackground": true,
            "ticks": "",
            "zerolinecolor": "white"
           }
          },
          "shapedefaults": {
           "line": {
            "color": "#2a3f5f"
           }
          },
          "ternary": {
           "aaxis": {
            "gridcolor": "white",
            "linecolor": "white",
            "ticks": ""
           },
           "baxis": {
            "gridcolor": "white",
            "linecolor": "white",
            "ticks": ""
           },
           "bgcolor": "#E5ECF6",
           "caxis": {
            "gridcolor": "white",
            "linecolor": "white",
            "ticks": ""
           }
          },
          "title": {
           "x": 0.05
          },
          "xaxis": {
           "automargin": true,
           "gridcolor": "white",
           "linecolor": "white",
           "ticks": "",
           "title": {
            "standoff": 15
           },
           "zerolinecolor": "white",
           "zerolinewidth": 2
          },
          "yaxis": {
           "automargin": true,
           "gridcolor": "white",
           "linecolor": "white",
           "ticks": "",
           "title": {
            "standoff": 15
           },
           "zerolinecolor": "white",
           "zerolinewidth": 2
          }
         }
        },
        "title": {
         "text": "Spatial Grid for Antwerp Region"
        }
       }
      }
     },
     "metadata": {},
     "output_type": "display_data"
    }
   ],
   "source": [
    "\n",
    "# Convert geometries to GeoJSON serializable format\n",
    "fig = px.choropleth_map(\n",
    "    grid_df,\n",
    "    geojson=grid_df,\n",
    "    locations=grid_df.index,\n",
    "    mapbox_style=\"carto-positron\",\n",
    "    center={\"lat\": 51.15, \"lon\": 4.4},\n",
    "    zoom=8,\n",
    "    title=\"Spatial Grid for Antwerp Region\"\n",
    ")\n",
    "fig.update_geos(fitbounds=\"locations\")\n",
    "fig.update_layout(margin={\"r\": 0, \"t\": 0, \"l\": 0, \"b\": 0})\n",
    "fig.show()\n"
   ]
  },
  {
   "cell_type": "markdown",
   "metadata": {},
   "source": [
    "### 3. Prepare Jobs for Parallel Processing\n",
    "\n",
    "In this example, we will create Best Available Pixel Composites for every tile. For the implementation of this compositing workflow, we will directly make use of the standardized implementation hosed in the [APEX repository](https://github.com/ESA-APEx). To initiate this, we use the `ProcessBasedJobCreator`, which simplifies the definition of the required `start_job` functionality for algorithms defined within an openEO process graph.\n",
    "\n",
    "In addition we initate our job tracker `jobs.csv` from the earlier created dataframe `grid_df`. This job tracker will be used to periodically obtain a status update the predefined openEO jobs."
   ]
  },
  {
   "cell_type": "code",
   "execution_count": null,
   "metadata": {},
   "outputs": [
    {
     "name": "stdout",
     "output_type": "stream",
     "text": [
      "Authenticated using refresh token.\n"
     ]
    }
   ],
   "source": [
    "#Make use of the Best Available Pixel openeo Process to obtain Sentinel 2 composites\n",
    "process_graph_url = \"https://raw.githubusercontent.com/ESA-APEx/apex_algorithms/main/openeo_udp/bap_composite.json\"\n",
    "\n",
    "start_job = ProcessBasedJobCreator(\n",
    "        namespace=process_graph_url,\n",
    "        parameter_defaults={},\n",
    "    )\n",
    "\n",
    "# Initiate MultiBackendJobManager \n",
    "poll_sleep  = 60\n",
    "job_manager = MultiBackendJobManager(poll_sleep=poll_sleep)  \n",
    "connection = openeo.connect(url=\"openeo.dataspace.copernicus.eu\").authenticate_oidc()\n",
    "job_manager.add_backend(\"cdse\", connection=connection, parallel_jobs=2)\n",
    "\n",
    "#Create the Job Tracker file\n",
    "job_tracker = 'jobs.csv'\n",
    "grid_df[\"temporal_extent\"] = [[\"2024-05-01\", \"2024-08-01\"]] * len(grid_df)\n",
    "job_db = CsvJobDatabase(path=job_tracker)\n",
    "if not job_db.exists():\n",
    "    df = job_manager._normalize_df(grid_df)\n",
    "    job_db.persist(df)\n"
   ]
  },
  {
   "cell_type": "markdown",
   "metadata": {},
   "source": [
    "### 4. Prepare Job visualization with a Custom Color Mapping\n",
    "\n",
    "To effectively monitor the progress of geospatial processing tasks, we define a function to visualize job statuses on an interactive map. This visualization uses Plotly, with custom color mappings for each job status, providing a clear overview of the current state of all jobs."
   ]
  },
  {
   "cell_type": "code",
   "execution_count": 18,
   "metadata": {},
   "outputs": [],
   "source": [
    "colors = {\n",
    "    \"not_started\": 'lightgrey', \n",
    "    \"created\": 'gold', \n",
    "    \"queued\": 'lightsteelblue', \n",
    "    \"running\": 'navy', \n",
    "    \"finished\": 'lime',\n",
    "    \"error\": 'darkred',\n",
    "    \"skipped\": 'darkorange',\n",
    "    \"start_failed\": 'red',\n",
    "    None: 'grey'  # Default color for any undefined status\n",
    "}"
   ]
  },
  {
   "cell_type": "markdown",
   "metadata": {},
   "source": [
    "This color scheme makes it easy to distinguish between different statuses.\n",
    "The `plot_job_status` function generates an interactive map."
   ]
  },
  {
   "cell_type": "code",
   "execution_count": null,
   "metadata": {},
   "outputs": [],
   "source": [
    "# Define the color mapping for job statuses\n",
    "\n",
    "def plot_job_status(status_df, color_dict):\n",
    "    status_plot = copy.deepcopy(status_df)\n",
    "    status_plot['geometry'] = status_plot['geometry'].apply(wkt.loads)\n",
    "    status_plot = gpd.GeoDataFrame(status_plot, geometry='geometry', crs='EPSG:4326')\n",
    "    status_plot['color'] = status_plot['status'].map(color_dict).fillna(color_dict[None])\n",
    "\n",
    "    minx, miny, maxx, maxy = status_plot.total_bounds\n",
    "    center_lat = (miny + maxy) / 2\n",
    "    center_lon = (minx + maxx) / 2\n",
    "\n",
    "    fig = px.choropleth_map(\n",
    "        status_plot,\n",
    "        geojson=status_plot.geometry.__geo_interface__,\n",
    "        locations=status_plot.index,\n",
    "        color='status',\n",
    "        color_discrete_map=color_dict,\n",
    "        mapbox_style=\"carto-positron\",\n",
    "        center={\"lat\": center_lat, \"lon\": center_lon},\n",
    "        zoom=8,\n",
    "        title=\"Job Status Overview\"\n",
    "    )\n",
    "    fig.update_geos(fitbounds=\"locations\")\n",
    "    fig.update_layout(margin={\"r\": 0, \"t\": 0, \"l\": 0, \"b\": 0})\n",
    "\n",
    "    return fig\n"
   ]
  },
  {
   "cell_type": "markdown",
   "metadata": {},
   "source": [
    "### 5. Running the Jobs with MultiBackendJobManager\n",
    "\n",
    "Finally, we run the jobs using MultiBackendJobManager, which allows us to manage multiple job executions across. As a standard-user, you can run 2 parallel jobs at any time.\n",
    "\n",
    "Threading is applied to enable the visualization of job statuses while concurrently running openEO jobs. This approach allows the jobs to execute in parallel with the status updates, ensuring that the map is refreshed regularly without blocking job execution. In total there are two threads:\n",
    "\n",
    "- Job Execution: The jobs are initiated using the job manager that runs in its own thread. This allows the jobs to be executed asynchronously.\n",
    "- Visualization: At the same time, we continually check the job statuses from a CSV file (jobs.csv) and update the visualization using the plot_job_status function.\n"
   ]
  },
  {
   "cell_type": "code",
   "execution_count": null,
   "metadata": {},
   "outputs": [
    {
     "data": {
      "application/vnd.plotly.v1+json": {
       "config": {
        "linkText": "Export to plot.ly",
        "plotlyServerURL": "https://plot.ly",
        "showLink": false
       },
       "data": [
        {
         "colorscale": [
          [
           0,
           "navy"
          ],
          [
           1,
           "navy"
          ]
         ],
         "geojson": {
          "bbox": [
           4.284962958545277,
           51.082781192120265,
           4.430466249243753,
           51.17433762905858
          ],
          "features": [
           {
            "bbox": [
             4.284962958545277,
             51.08363102606288,
             4.357645304773775,
             51.12938765359171
            ],
            "geometry": {
             "coordinates": [
              [
               [
                4.35632893250526,
                51.08363102606288
               ],
               [
                4.357645304773775,
                51.12858008385103
               ],
               [
                4.286210115056352,
                51.12938765359171
               ],
               [
                4.284962958545277,
                51.08443730870333
               ],
               [
                4.35632893250526,
                51.08363102606288
               ]
              ]
             ],
             "type": "Polygon"
            },
            "id": "0",
            "properties": {},
            "type": "Feature"
           },
           {
            "bbox": [
             4.286210115056352,
             51.12858008385103,
             4.358965069355727,
             51.17433762905858
            ],
            "geometry": {
             "coordinates": [
              [
               [
                4.357645304773775,
                51.12858008385103
               ],
               [
                4.358965069355727,
                51.17352876972812
               ],
               [
                4.287460485650376,
                51.17433762905858
               ],
               [
                4.286210115056352,
                51.12938765359171
               ],
               [
                4.357645304773775,
                51.12858008385103
               ]
              ]
             ],
             "type": "Polygon"
            },
            "id": "1",
            "properties": {},
            "type": "Feature"
           },
           {
            "bbox": [
             4.35632893250526,
             51.082781192120265,
             4.429077102186661,
             51.12858008385103
            ],
            "geometry": {
             "coordinates": [
              [
               [
                4.427691525620092,
                51.082781192120265
               ],
               [
                4.429077102186661,
                51.12772889333409
               ],
               [
                4.357645304773775,
                51.12858008385103
               ],
               [
                4.35632893250526,
                51.08363102606288
               ],
               [
                4.427691525620092,
                51.082781192120265
               ]
              ]
             ],
             "type": "Polygon"
            },
            "id": "2",
            "properties": {},
            "type": "Feature"
           },
           {
            "bbox": [
             4.357645304773775,
             51.12772889333409,
             4.430466249243753,
             51.17352876972812
            ],
            "geometry": {
             "coordinates": [
              [
               [
                4.429077102186661,
                51.12772889333409
               ],
               [
                4.430466249243753,
                51.17267622001317
               ],
               [
                4.358965069355727,
                51.17352876972812
               ],
               [
                4.357645304773775,
                51.12858008385103
               ],
               [
                4.429077102186661,
                51.12772889333409
               ]
              ]
             ],
             "type": "Polygon"
            },
            "id": "3",
            "properties": {},
            "type": "Feature"
           }
          ],
          "type": "FeatureCollection"
         },
         "hovertemplate": "status=running<br>index=%{location}<extra></extra>",
         "locations": [
          0
         ],
         "name": "running",
         "showlegend": true,
         "showscale": false,
         "subplot": "mapbox",
         "type": "choroplethmapbox",
         "z": [
          1
         ]
        },
        {
         "colorscale": [
          [
           0,
           "red"
          ],
          [
           1,
           "red"
          ]
         ],
         "geojson": {
          "bbox": [
           4.284962958545277,
           51.082781192120265,
           4.430466249243753,
           51.17433762905858
          ],
          "features": [
           {
            "bbox": [
             4.284962958545277,
             51.08363102606288,
             4.357645304773775,
             51.12938765359171
            ],
            "geometry": {
             "coordinates": [
              [
               [
                4.35632893250526,
                51.08363102606288
               ],
               [
                4.357645304773775,
                51.12858008385103
               ],
               [
                4.286210115056352,
                51.12938765359171
               ],
               [
                4.284962958545277,
                51.08443730870333
               ],
               [
                4.35632893250526,
                51.08363102606288
               ]
              ]
             ],
             "type": "Polygon"
            },
            "id": "0",
            "properties": {},
            "type": "Feature"
           },
           {
            "bbox": [
             4.286210115056352,
             51.12858008385103,
             4.358965069355727,
             51.17433762905858
            ],
            "geometry": {
             "coordinates": [
              [
               [
                4.357645304773775,
                51.12858008385103
               ],
               [
                4.358965069355727,
                51.17352876972812
               ],
               [
                4.287460485650376,
                51.17433762905858
               ],
               [
                4.286210115056352,
                51.12938765359171
               ],
               [
                4.357645304773775,
                51.12858008385103
               ]
              ]
             ],
             "type": "Polygon"
            },
            "id": "1",
            "properties": {},
            "type": "Feature"
           },
           {
            "bbox": [
             4.35632893250526,
             51.082781192120265,
             4.429077102186661,
             51.12858008385103
            ],
            "geometry": {
             "coordinates": [
              [
               [
                4.427691525620092,
                51.082781192120265
               ],
               [
                4.429077102186661,
                51.12772889333409
               ],
               [
                4.357645304773775,
                51.12858008385103
               ],
               [
                4.35632893250526,
                51.08363102606288
               ],
               [
                4.427691525620092,
                51.082781192120265
               ]
              ]
             ],
             "type": "Polygon"
            },
            "id": "2",
            "properties": {},
            "type": "Feature"
           },
           {
            "bbox": [
             4.357645304773775,
             51.12772889333409,
             4.430466249243753,
             51.17352876972812
            ],
            "geometry": {
             "coordinates": [
              [
               [
                4.429077102186661,
                51.12772889333409
               ],
               [
                4.430466249243753,
                51.17267622001317
               ],
               [
                4.358965069355727,
                51.17352876972812
               ],
               [
                4.357645304773775,
                51.12858008385103
               ],
               [
                4.429077102186661,
                51.12772889333409
               ]
              ]
             ],
             "type": "Polygon"
            },
            "id": "3",
            "properties": {},
            "type": "Feature"
           }
          ],
          "type": "FeatureCollection"
         },
         "hovertemplate": "status=start_failed<br>index=%{location}<extra></extra>",
         "locations": [
          1
         ],
         "name": "start_failed",
         "showlegend": true,
         "showscale": false,
         "subplot": "mapbox",
         "type": "choroplethmapbox",
         "z": [
          1
         ]
        },
        {
         "colorscale": [
          [
           0,
           "gold"
          ],
          [
           1,
           "gold"
          ]
         ],
         "geojson": {
          "bbox": [
           4.284962958545277,
           51.082781192120265,
           4.430466249243753,
           51.17433762905858
          ],
          "features": [
           {
            "bbox": [
             4.284962958545277,
             51.08363102606288,
             4.357645304773775,
             51.12938765359171
            ],
            "geometry": {
             "coordinates": [
              [
               [
                4.35632893250526,
                51.08363102606288
               ],
               [
                4.357645304773775,
                51.12858008385103
               ],
               [
                4.286210115056352,
                51.12938765359171
               ],
               [
                4.284962958545277,
                51.08443730870333
               ],
               [
                4.35632893250526,
                51.08363102606288
               ]
              ]
             ],
             "type": "Polygon"
            },
            "id": "0",
            "properties": {},
            "type": "Feature"
           },
           {
            "bbox": [
             4.286210115056352,
             51.12858008385103,
             4.358965069355727,
             51.17433762905858
            ],
            "geometry": {
             "coordinates": [
              [
               [
                4.357645304773775,
                51.12858008385103
               ],
               [
                4.358965069355727,
                51.17352876972812
               ],
               [
                4.287460485650376,
                51.17433762905858
               ],
               [
                4.286210115056352,
                51.12938765359171
               ],
               [
                4.357645304773775,
                51.12858008385103
               ]
              ]
             ],
             "type": "Polygon"
            },
            "id": "1",
            "properties": {},
            "type": "Feature"
           },
           {
            "bbox": [
             4.35632893250526,
             51.082781192120265,
             4.429077102186661,
             51.12858008385103
            ],
            "geometry": {
             "coordinates": [
              [
               [
                4.427691525620092,
                51.082781192120265
               ],
               [
                4.429077102186661,
                51.12772889333409
               ],
               [
                4.357645304773775,
                51.12858008385103
               ],
               [
                4.35632893250526,
                51.08363102606288
               ],
               [
                4.427691525620092,
                51.082781192120265
               ]
              ]
             ],
             "type": "Polygon"
            },
            "id": "2",
            "properties": {},
            "type": "Feature"
           },
           {
            "bbox": [
             4.357645304773775,
             51.12772889333409,
             4.430466249243753,
             51.17352876972812
            ],
            "geometry": {
             "coordinates": [
              [
               [
                4.429077102186661,
                51.12772889333409
               ],
               [
                4.430466249243753,
                51.17267622001317
               ],
               [
                4.358965069355727,
                51.17352876972812
               ],
               [
                4.357645304773775,
                51.12858008385103
               ],
               [
                4.429077102186661,
                51.12772889333409
               ]
              ]
             ],
             "type": "Polygon"
            },
            "id": "3",
            "properties": {},
            "type": "Feature"
           }
          ],
          "type": "FeatureCollection"
         },
         "hovertemplate": "status=created<br>index=%{location}<extra></extra>",
         "locations": [
          2
         ],
         "name": "created",
         "showlegend": true,
         "showscale": false,
         "subplot": "mapbox",
         "type": "choroplethmapbox",
         "z": [
          1
         ]
        },
        {
         "colorscale": [
          [
           0,
           "lightgrey"
          ],
          [
           1,
           "lightgrey"
          ]
         ],
         "geojson": {
          "bbox": [
           4.284962958545277,
           51.082781192120265,
           4.430466249243753,
           51.17433762905858
          ],
          "features": [
           {
            "bbox": [
             4.284962958545277,
             51.08363102606288,
             4.357645304773775,
             51.12938765359171
            ],
            "geometry": {
             "coordinates": [
              [
               [
                4.35632893250526,
                51.08363102606288
               ],
               [
                4.357645304773775,
                51.12858008385103
               ],
               [
                4.286210115056352,
                51.12938765359171
               ],
               [
                4.284962958545277,
                51.08443730870333
               ],
               [
                4.35632893250526,
                51.08363102606288
               ]
              ]
             ],
             "type": "Polygon"
            },
            "id": "0",
            "properties": {},
            "type": "Feature"
           },
           {
            "bbox": [
             4.286210115056352,
             51.12858008385103,
             4.358965069355727,
             51.17433762905858
            ],
            "geometry": {
             "coordinates": [
              [
               [
                4.357645304773775,
                51.12858008385103
               ],
               [
                4.358965069355727,
                51.17352876972812
               ],
               [
                4.287460485650376,
                51.17433762905858
               ],
               [
                4.286210115056352,
                51.12938765359171
               ],
               [
                4.357645304773775,
                51.12858008385103
               ]
              ]
             ],
             "type": "Polygon"
            },
            "id": "1",
            "properties": {},
            "type": "Feature"
           },
           {
            "bbox": [
             4.35632893250526,
             51.082781192120265,
             4.429077102186661,
             51.12858008385103
            ],
            "geometry": {
             "coordinates": [
              [
               [
                4.427691525620092,
                51.082781192120265
               ],
               [
                4.429077102186661,
                51.12772889333409
               ],
               [
                4.357645304773775,
                51.12858008385103
               ],
               [
                4.35632893250526,
                51.08363102606288
               ],
               [
                4.427691525620092,
                51.082781192120265
               ]
              ]
             ],
             "type": "Polygon"
            },
            "id": "2",
            "properties": {},
            "type": "Feature"
           },
           {
            "bbox": [
             4.357645304773775,
             51.12772889333409,
             4.430466249243753,
             51.17352876972812
            ],
            "geometry": {
             "coordinates": [
              [
               [
                4.429077102186661,
                51.12772889333409
               ],
               [
                4.430466249243753,
                51.17267622001317
               ],
               [
                4.358965069355727,
                51.17352876972812
               ],
               [
                4.357645304773775,
                51.12858008385103
               ],
               [
                4.429077102186661,
                51.12772889333409
               ]
              ]
             ],
             "type": "Polygon"
            },
            "id": "3",
            "properties": {},
            "type": "Feature"
           }
          ],
          "type": "FeatureCollection"
         },
         "hovertemplate": "status=not_started<br>index=%{location}<extra></extra>",
         "locations": [
          3
         ],
         "name": "not_started",
         "showlegend": true,
         "showscale": false,
         "subplot": "mapbox",
         "type": "choroplethmapbox",
         "z": [
          1
         ]
        }
       ],
       "layout": {
        "geo": {
         "fitbounds": "locations"
        },
        "legend": {
         "title": {
          "text": "status"
         },
         "tracegroupgap": 0
        },
        "mapbox": {
         "center": {
          "lat": 51.12855941058942,
          "lon": 4.3577146038945145
         },
         "domain": {
          "x": [
           0,
           1
          ],
          "y": [
           0,
           1
          ]
         },
         "style": "carto-positron",
         "zoom": 8
        },
        "margin": {
         "b": 0,
         "l": 0,
         "r": 0,
         "t": 0
        },
        "template": {
         "data": {
          "bar": [
           {
            "error_x": {
             "color": "#2a3f5f"
            },
            "error_y": {
             "color": "#2a3f5f"
            },
            "marker": {
             "line": {
              "color": "#E5ECF6",
              "width": 0.5
             },
             "pattern": {
              "fillmode": "overlay",
              "size": 10,
              "solidity": 0.2
             }
            },
            "type": "bar"
           }
          ],
          "barpolar": [
           {
            "marker": {
             "line": {
              "color": "#E5ECF6",
              "width": 0.5
             },
             "pattern": {
              "fillmode": "overlay",
              "size": 10,
              "solidity": 0.2
             }
            },
            "type": "barpolar"
           }
          ],
          "carpet": [
           {
            "aaxis": {
             "endlinecolor": "#2a3f5f",
             "gridcolor": "white",
             "linecolor": "white",
             "minorgridcolor": "white",
             "startlinecolor": "#2a3f5f"
            },
            "baxis": {
             "endlinecolor": "#2a3f5f",
             "gridcolor": "white",
             "linecolor": "white",
             "minorgridcolor": "white",
             "startlinecolor": "#2a3f5f"
            },
            "type": "carpet"
           }
          ],
          "choropleth": [
           {
            "colorbar": {
             "outlinewidth": 0,
             "ticks": ""
            },
            "type": "choropleth"
           }
          ],
          "contour": [
           {
            "colorbar": {
             "outlinewidth": 0,
             "ticks": ""
            },
            "colorscale": [
             [
              0,
              "#0d0887"
             ],
             [
              0.1111111111111111,
              "#46039f"
             ],
             [
              0.2222222222222222,
              "#7201a8"
             ],
             [
              0.3333333333333333,
              "#9c179e"
             ],
             [
              0.4444444444444444,
              "#bd3786"
             ],
             [
              0.5555555555555556,
              "#d8576b"
             ],
             [
              0.6666666666666666,
              "#ed7953"
             ],
             [
              0.7777777777777778,
              "#fb9f3a"
             ],
             [
              0.8888888888888888,
              "#fdca26"
             ],
             [
              1,
              "#f0f921"
             ]
            ],
            "type": "contour"
           }
          ],
          "contourcarpet": [
           {
            "colorbar": {
             "outlinewidth": 0,
             "ticks": ""
            },
            "type": "contourcarpet"
           }
          ],
          "heatmap": [
           {
            "colorbar": {
             "outlinewidth": 0,
             "ticks": ""
            },
            "colorscale": [
             [
              0,
              "#0d0887"
             ],
             [
              0.1111111111111111,
              "#46039f"
             ],
             [
              0.2222222222222222,
              "#7201a8"
             ],
             [
              0.3333333333333333,
              "#9c179e"
             ],
             [
              0.4444444444444444,
              "#bd3786"
             ],
             [
              0.5555555555555556,
              "#d8576b"
             ],
             [
              0.6666666666666666,
              "#ed7953"
             ],
             [
              0.7777777777777778,
              "#fb9f3a"
             ],
             [
              0.8888888888888888,
              "#fdca26"
             ],
             [
              1,
              "#f0f921"
             ]
            ],
            "type": "heatmap"
           }
          ],
          "heatmapgl": [
           {
            "colorbar": {
             "outlinewidth": 0,
             "ticks": ""
            },
            "colorscale": [
             [
              0,
              "#0d0887"
             ],
             [
              0.1111111111111111,
              "#46039f"
             ],
             [
              0.2222222222222222,
              "#7201a8"
             ],
             [
              0.3333333333333333,
              "#9c179e"
             ],
             [
              0.4444444444444444,
              "#bd3786"
             ],
             [
              0.5555555555555556,
              "#d8576b"
             ],
             [
              0.6666666666666666,
              "#ed7953"
             ],
             [
              0.7777777777777778,
              "#fb9f3a"
             ],
             [
              0.8888888888888888,
              "#fdca26"
             ],
             [
              1,
              "#f0f921"
             ]
            ],
            "type": "heatmapgl"
           }
          ],
          "histogram": [
           {
            "marker": {
             "pattern": {
              "fillmode": "overlay",
              "size": 10,
              "solidity": 0.2
             }
            },
            "type": "histogram"
           }
          ],
          "histogram2d": [
           {
            "colorbar": {
             "outlinewidth": 0,
             "ticks": ""
            },
            "colorscale": [
             [
              0,
              "#0d0887"
             ],
             [
              0.1111111111111111,
              "#46039f"
             ],
             [
              0.2222222222222222,
              "#7201a8"
             ],
             [
              0.3333333333333333,
              "#9c179e"
             ],
             [
              0.4444444444444444,
              "#bd3786"
             ],
             [
              0.5555555555555556,
              "#d8576b"
             ],
             [
              0.6666666666666666,
              "#ed7953"
             ],
             [
              0.7777777777777778,
              "#fb9f3a"
             ],
             [
              0.8888888888888888,
              "#fdca26"
             ],
             [
              1,
              "#f0f921"
             ]
            ],
            "type": "histogram2d"
           }
          ],
          "histogram2dcontour": [
           {
            "colorbar": {
             "outlinewidth": 0,
             "ticks": ""
            },
            "colorscale": [
             [
              0,
              "#0d0887"
             ],
             [
              0.1111111111111111,
              "#46039f"
             ],
             [
              0.2222222222222222,
              "#7201a8"
             ],
             [
              0.3333333333333333,
              "#9c179e"
             ],
             [
              0.4444444444444444,
              "#bd3786"
             ],
             [
              0.5555555555555556,
              "#d8576b"
             ],
             [
              0.6666666666666666,
              "#ed7953"
             ],
             [
              0.7777777777777778,
              "#fb9f3a"
             ],
             [
              0.8888888888888888,
              "#fdca26"
             ],
             [
              1,
              "#f0f921"
             ]
            ],
            "type": "histogram2dcontour"
           }
          ],
          "mesh3d": [
           {
            "colorbar": {
             "outlinewidth": 0,
             "ticks": ""
            },
            "type": "mesh3d"
           }
          ],
          "parcoords": [
           {
            "line": {
             "colorbar": {
              "outlinewidth": 0,
              "ticks": ""
             }
            },
            "type": "parcoords"
           }
          ],
          "pie": [
           {
            "automargin": true,
            "type": "pie"
           }
          ],
          "scatter": [
           {
            "fillpattern": {
             "fillmode": "overlay",
             "size": 10,
             "solidity": 0.2
            },
            "type": "scatter"
           }
          ],
          "scatter3d": [
           {
            "line": {
             "colorbar": {
              "outlinewidth": 0,
              "ticks": ""
             }
            },
            "marker": {
             "colorbar": {
              "outlinewidth": 0,
              "ticks": ""
             }
            },
            "type": "scatter3d"
           }
          ],
          "scattercarpet": [
           {
            "marker": {
             "colorbar": {
              "outlinewidth": 0,
              "ticks": ""
             }
            },
            "type": "scattercarpet"
           }
          ],
          "scattergeo": [
           {
            "marker": {
             "colorbar": {
              "outlinewidth": 0,
              "ticks": ""
             }
            },
            "type": "scattergeo"
           }
          ],
          "scattergl": [
           {
            "marker": {
             "colorbar": {
              "outlinewidth": 0,
              "ticks": ""
             }
            },
            "type": "scattergl"
           }
          ],
          "scattermapbox": [
           {
            "marker": {
             "colorbar": {
              "outlinewidth": 0,
              "ticks": ""
             }
            },
            "type": "scattermapbox"
           }
          ],
          "scatterpolar": [
           {
            "marker": {
             "colorbar": {
              "outlinewidth": 0,
              "ticks": ""
             }
            },
            "type": "scatterpolar"
           }
          ],
          "scatterpolargl": [
           {
            "marker": {
             "colorbar": {
              "outlinewidth": 0,
              "ticks": ""
             }
            },
            "type": "scatterpolargl"
           }
          ],
          "scatterternary": [
           {
            "marker": {
             "colorbar": {
              "outlinewidth": 0,
              "ticks": ""
             }
            },
            "type": "scatterternary"
           }
          ],
          "surface": [
           {
            "colorbar": {
             "outlinewidth": 0,
             "ticks": ""
            },
            "colorscale": [
             [
              0,
              "#0d0887"
             ],
             [
              0.1111111111111111,
              "#46039f"
             ],
             [
              0.2222222222222222,
              "#7201a8"
             ],
             [
              0.3333333333333333,
              "#9c179e"
             ],
             [
              0.4444444444444444,
              "#bd3786"
             ],
             [
              0.5555555555555556,
              "#d8576b"
             ],
             [
              0.6666666666666666,
              "#ed7953"
             ],
             [
              0.7777777777777778,
              "#fb9f3a"
             ],
             [
              0.8888888888888888,
              "#fdca26"
             ],
             [
              1,
              "#f0f921"
             ]
            ],
            "type": "surface"
           }
          ],
          "table": [
           {
            "cells": {
             "fill": {
              "color": "#EBF0F8"
             },
             "line": {
              "color": "white"
             }
            },
            "header": {
             "fill": {
              "color": "#C8D4E3"
             },
             "line": {
              "color": "white"
             }
            },
            "type": "table"
           }
          ]
         },
         "layout": {
          "annotationdefaults": {
           "arrowcolor": "#2a3f5f",
           "arrowhead": 0,
           "arrowwidth": 1
          },
          "autotypenumbers": "strict",
          "coloraxis": {
           "colorbar": {
            "outlinewidth": 0,
            "ticks": ""
           }
          },
          "colorscale": {
           "diverging": [
            [
             0,
             "#8e0152"
            ],
            [
             0.1,
             "#c51b7d"
            ],
            [
             0.2,
             "#de77ae"
            ],
            [
             0.3,
             "#f1b6da"
            ],
            [
             0.4,
             "#fde0ef"
            ],
            [
             0.5,
             "#f7f7f7"
            ],
            [
             0.6,
             "#e6f5d0"
            ],
            [
             0.7,
             "#b8e186"
            ],
            [
             0.8,
             "#7fbc41"
            ],
            [
             0.9,
             "#4d9221"
            ],
            [
             1,
             "#276419"
            ]
           ],
           "sequential": [
            [
             0,
             "#0d0887"
            ],
            [
             0.1111111111111111,
             "#46039f"
            ],
            [
             0.2222222222222222,
             "#7201a8"
            ],
            [
             0.3333333333333333,
             "#9c179e"
            ],
            [
             0.4444444444444444,
             "#bd3786"
            ],
            [
             0.5555555555555556,
             "#d8576b"
            ],
            [
             0.6666666666666666,
             "#ed7953"
            ],
            [
             0.7777777777777778,
             "#fb9f3a"
            ],
            [
             0.8888888888888888,
             "#fdca26"
            ],
            [
             1,
             "#f0f921"
            ]
           ],
           "sequentialminus": [
            [
             0,
             "#0d0887"
            ],
            [
             0.1111111111111111,
             "#46039f"
            ],
            [
             0.2222222222222222,
             "#7201a8"
            ],
            [
             0.3333333333333333,
             "#9c179e"
            ],
            [
             0.4444444444444444,
             "#bd3786"
            ],
            [
             0.5555555555555556,
             "#d8576b"
            ],
            [
             0.6666666666666666,
             "#ed7953"
            ],
            [
             0.7777777777777778,
             "#fb9f3a"
            ],
            [
             0.8888888888888888,
             "#fdca26"
            ],
            [
             1,
             "#f0f921"
            ]
           ]
          },
          "colorway": [
           "#636efa",
           "#EF553B",
           "#00cc96",
           "#ab63fa",
           "#FFA15A",
           "#19d3f3",
           "#FF6692",
           "#B6E880",
           "#FF97FF",
           "#FECB52"
          ],
          "font": {
           "color": "#2a3f5f"
          },
          "geo": {
           "bgcolor": "white",
           "lakecolor": "white",
           "landcolor": "#E5ECF6",
           "showlakes": true,
           "showland": true,
           "subunitcolor": "white"
          },
          "hoverlabel": {
           "align": "left"
          },
          "hovermode": "closest",
          "mapbox": {
           "style": "light"
          },
          "paper_bgcolor": "white",
          "plot_bgcolor": "#E5ECF6",
          "polar": {
           "angularaxis": {
            "gridcolor": "white",
            "linecolor": "white",
            "ticks": ""
           },
           "bgcolor": "#E5ECF6",
           "radialaxis": {
            "gridcolor": "white",
            "linecolor": "white",
            "ticks": ""
           }
          },
          "scene": {
           "xaxis": {
            "backgroundcolor": "#E5ECF6",
            "gridcolor": "white",
            "gridwidth": 2,
            "linecolor": "white",
            "showbackground": true,
            "ticks": "",
            "zerolinecolor": "white"
           },
           "yaxis": {
            "backgroundcolor": "#E5ECF6",
            "gridcolor": "white",
            "gridwidth": 2,
            "linecolor": "white",
            "showbackground": true,
            "ticks": "",
            "zerolinecolor": "white"
           },
           "zaxis": {
            "backgroundcolor": "#E5ECF6",
            "gridcolor": "white",
            "gridwidth": 2,
            "linecolor": "white",
            "showbackground": true,
            "ticks": "",
            "zerolinecolor": "white"
           }
          },
          "shapedefaults": {
           "line": {
            "color": "#2a3f5f"
           }
          },
          "ternary": {
           "aaxis": {
            "gridcolor": "white",
            "linecolor": "white",
            "ticks": ""
           },
           "baxis": {
            "gridcolor": "white",
            "linecolor": "white",
            "ticks": ""
           },
           "bgcolor": "#E5ECF6",
           "caxis": {
            "gridcolor": "white",
            "linecolor": "white",
            "ticks": ""
           }
          },
          "title": {
           "x": 0.05
          },
          "xaxis": {
           "automargin": true,
           "gridcolor": "white",
           "linecolor": "white",
           "ticks": "",
           "title": {
            "standoff": 15
           },
           "zerolinecolor": "white",
           "zerolinewidth": 2
          },
          "yaxis": {
           "automargin": true,
           "gridcolor": "white",
           "linecolor": "white",
           "ticks": "",
           "title": {
            "standoff": 15
           },
           "zerolinecolor": "white",
           "zerolinewidth": 2
          }
         }
        },
        "title": {
         "text": "Job Status Overview"
        }
       }
      }
     },
     "metadata": {},
     "output_type": "display_data"
    }
   ],
   "source": [
    "# Start a threaded job manager\n",
    "job_manager.start_job_thread(start_job=start_job, job_db=job_db)\n",
    "\n",
    "while not job_manager._stop_thread:\n",
    "    try:\n",
    "        status_df = pd.read_csv('jobs.csv')\n",
    "        fig = plot_job_status(status_df=status_df, color_dict=colors)\n",
    "        clear_output()\n",
    "        offline.iplot(fig)\n",
    "\n",
    "        # Check if all jobs are done\n",
    "        if status_df['status'].isin([\"not_started\", \"created\", \"queued\", \"running\"]).sum() == 0:\n",
    "            job_manager.stop_job_thread()\n",
    "\n",
    "        time.sleep(poll_sleep)  # Wait before the next update\n",
    "\n",
    "    except KeyboardInterrupt:\n",
    "        break\n"
   ]
  }
 ],
 "metadata": {
  "kernelspec": {
   "display_name": "eotdl_openeo_env",
   "language": "python",
   "name": "python3"
  },
  "language_info": {
   "codemirror_mode": {
    "name": "ipython",
    "version": 3
   },
   "file_extension": ".py",
   "mimetype": "text/x-python",
   "name": "python",
   "nbconvert_exporter": "python",
   "pygments_lexer": "ipython3",
   "version": "3.9.20"
  }
 },
 "nbformat": 4,
 "nbformat_minor": 2
}
