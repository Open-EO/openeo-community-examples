{
 "cells": [
  {
   "cell_type": "markdown",
   "id": "9731af1b2565e8f6",
   "metadata": {},
   "source": [
    "# Best available pixel composite\n",
    "\n",
    "In this notebook a monthly composite image is created based on the Best Available Pixel (BAP) method in OpenEO. This is a scientifically sound method of generating composites, which minimizes the mixing of pixels from different observations. Also for each pixel, all bands will be taken from a single observation. As a result, the spectral signature in the composite is observed rather than being a combination of multiple observations.\n",
    "\n",
    "We refer to the scientific references for a full discussion of this method, but can generally recommend it both for its correctness and performance. We do still observe some residual cloud (shadow) in certain cases, which can be attributed to the quality of the SCL band. \n",
    "\n",
    "The BAP score is a weighted average of three (four) scores:\n",
    "\n",
    "- **Distance-to-Cloud Score**: Pixels that are clouds are given score 0. Pixels that are more than 150 pixels - calculated with the Manhattan distance measure, assuming a resolution of 20m - away from a cloud pixel are given score 1. The pixels in between are given a score versus distance-to-cloud that follows a Gaussian shape.\n",
    "- **Coverage Score**: Per date, the percentage of all pixels that are classified as a cloud over the entire spatial extent is calculated. The Coverage Score is then equal to 1 - the cloud percentage.\n",
    "- **Date Score**: In order to favor pixels that are observed in the middle of a month, a date score is calculated, which follows a Gaussian shape. I.e. the largest scores are given for days in the middle of the month, the lowest scores are given for days at the beginning and end of the month. \n",
    "\n",
    "The final BAP score is a weighted average of the three aforementioned scores. The weights are 1, 0.5 and 0.8 for the Distance-to-Cloud, Coverage and Date Score respectively. \n",
    "\n",
    "The current implementation and the various parameters are still subject to change, so please do evaluate the correctness when using this method in your project. \n",
    "\n",
    "### References \n",
    "\n",
    "The approach described here was originally applied to Landsat, and adapted here for Sentinel-2. \n",
    "\n",
    "#### BAP composites assessment\n",
    "\n",
    "Francini, S., Hermosilla, T., Coops, N. C., Wulder, M. A., White, J. C., & Chirici, G. (2023). An assessment approach for pixel-based image composites. ISPRS Journal of Photogrammetry and Remote Sensing, 202, 1–12, [doi:10.1016/j.isprsjprs.2023.06.002](https://doi.org/10.1016/j.isprsjprs.2023.06.002)\n",
    "\n",
    "#### BAP process background:\n",
    "\n",
    "White, J.C.; Wulder, M.A.; Hobart, G.W.; Luther, J.E.; Hermosilla, T.; Griffiths, P.; Coops, N.C.; Hall, R.J.; Hostert, P.; Dyk, A.; et al. Pixel-based image compositing for large-area dense time series applications and science. Can. J. Remote Sens. 2014, 40, 192–212, [doi:10.1080/07038992.2014.945827](https://doi.org/10.1080/07038992.2014.945827).\n"
   ]
  },
  {
   "cell_type": "markdown",
   "id": "ca8dfe3815490015",
   "metadata": {},
   "source": [
    "## Loading Sentinel-2 scene classification\n",
    "\n",
    "The score is calculated based on the 'SCL' band only. This is very efficient because it's a lower resolution (20m) band, which is relatively quick to read.\n",
    "All other bands are read based on the score, which allows openEO to avoid loading data that is not used in the composite.\n",
    "\n",
    "First a sample period and region are defined. It is necessary to specify your region of interest as a Polygon."
   ]
  },
  {
   "cell_type": "code",
   "execution_count": null,
   "id": "2fa66062",
   "metadata": {},
   "outputs": [],
   "source": [
    "import geopandas as gpd\n",
    "\n",
    "gdf = gpd.read_file('test_area.geojson')\n",
    "gdf = gdf.to_crs(epsg=4326)\n",
    "area = eval(gdf.to_json())"
   ]
  },
  {
   "cell_type": "code",
   "execution_count": null,
   "id": "initial_id",
   "metadata": {},
   "outputs": [],
   "source": [
    "temporal_extent = [\"2022-07-01\", \"2022-07-31\"]\n",
    "max_cloud_cover = 70\n",
    "spatial_resolution = 20"
   ]
  },
  {
   "cell_type": "markdown",
   "id": "f0b08099",
   "metadata": {},
   "source": [
    "Note that the Python code behind the calculation of the BAP scores can be found in utils_BAP.py. All functions are defined there, and are loaded in here."
   ]
  },
  {
   "cell_type": "code",
   "execution_count": null,
   "id": "0b7ecc8f",
   "metadata": {},
   "outputs": [],
   "source": [
    "import openeo\n",
    "from openeo.processes import if_, is_nan\n",
    "from utils_BAP import (calculate_cloud_mask, calculate_cloud_coverage_score,\n",
    "                           calculate_date_score, calculate_distance_to_cloud_score,\n",
    "                           calculate_distance_to_cloud_score, aggregate_BAP_scores,\n",
    "                           create_rank_mask)"
   ]
  },
  {
   "cell_type": "code",
   "execution_count": null,
   "id": "024e8df8",
   "metadata": {},
   "outputs": [],
   "source": [
    "c=openeo.connect(\"openeo.dataspace.copernicus.eu\").authenticate_oidc()"
   ]
  },
  {
   "cell_type": "markdown",
   "id": "152e97db",
   "metadata": {},
   "source": [
    "Load in the SCL band from Sentinel-2 which will be used to calculate all cloud-related scores."
   ]
  },
  {
   "cell_type": "code",
   "execution_count": null,
   "id": "02bed3d6",
   "metadata": {},
   "outputs": [],
   "source": [
    "scl = c.load_collection(\n",
    "    \"SENTINEL2_L2A\",\n",
    "    temporal_extent=temporal_extent,\n",
    "    bands=[\"SCL\"],\n",
    "    max_cloud_cover=max_cloud_cover\n",
    ").resample_spatial(spatial_resolution).filter_spatial(area)\n",
    "\n",
    "scl = scl.apply(lambda x: if_(is_nan(x), 0, x))"
   ]
  },
  {
   "cell_type": "markdown",
   "id": "a4e70c48",
   "metadata": {},
   "source": [
    "Create a binary cloud mask, which gives 1 if a pixel is classified as cloud by SCL, an 0 otherwise."
   ]
  },
  {
   "cell_type": "code",
   "execution_count": null,
   "id": "6917600f",
   "metadata": {},
   "outputs": [],
   "source": [
    "cloud_mask =  calculate_cloud_mask(scl)"
   ]
  },
  {
   "cell_type": "markdown",
   "id": "61c9cbf3",
   "metadata": {},
   "source": [
    "## Coverage score"
   ]
  },
  {
   "cell_type": "markdown",
   "id": "d673bb81",
   "metadata": {},
   "source": [
    "First of all, the coverage score is calculated, which is equal to 1 - the percentage of pixels in the spatial_extent that are classified as cloud in SCL.\n",
    "\n",
    "- A polygon is created that is slighty larger than the original spatial_extent\n",
    "- The cloud coverage percentage is calculated by taking the average of the cloud binary (defined above), by using the `aggregate_spatial` process\n",
    "- Since the `aggregate_spatial` process results in vectordata, the data is rasterized again to the original dimensions, using the (experimental) `vector_to_raster` process\n",
    "- The coverage score is then equal to 1 - the cloud coverage percentage. I.e. a smaller cloud coverage percentage indicates a larger score"
   ]
  },
  {
   "cell_type": "code",
   "execution_count": null,
   "id": "902b6c0b",
   "metadata": {},
   "outputs": [],
   "source": [
    "coverage_score = calculate_cloud_coverage_score(cloud_mask, area, scl)"
   ]
  },
  {
   "cell_type": "markdown",
   "id": "83f94a548ff38f1c",
   "metadata": {},
   "source": [
    "## Date Score"
   ]
  },
  {
   "cell_type": "markdown",
   "id": "5647400a1a1cb3b1",
   "metadata": {},
   "source": [
    "Both the date and distance-to-cloud score are calculated with a function in Bap_utils.py"
   ]
  },
  {
   "cell_type": "code",
   "execution_count": null,
   "id": "6755378a983548f4",
   "metadata": {},
   "outputs": [],
   "source": [
    "date_score = calculate_date_score(scl)"
   ]
  },
  {
   "cell_type": "markdown",
   "id": "c0df42ac",
   "metadata": {},
   "source": [
    "## Distance to Cloud Score"
   ]
  },
  {
   "cell_type": "markdown",
   "id": "8418bdd0",
   "metadata": {},
   "source": [
    "Finally, the Distance to Cloud Score is calculated by applying a Gaussian kernel to the binary.\n",
    "The kernel size, defined below, indicates the maximum distance from a cloud, above which a pixel is automatically assigned score 1. In case of a kernel size of 151, the maximum distance is 150 pixels. The kernel size is 151 for a resolution of 20m and will be rescaled accordingly."
   ]
  },
  {
   "cell_type": "code",
   "execution_count": null,
   "id": "c7296546",
   "metadata": {},
   "outputs": [],
   "source": [
    "dtc_score = calculate_distance_to_cloud_score(cloud_mask, spatial_resolution)"
   ]
  },
  {
   "cell_type": "markdown",
   "id": "f2e0d40fa2eb91d7",
   "metadata": {},
   "source": [
    "## Aggregating Scores"
   ]
  },
  {
   "cell_type": "markdown",
   "id": "6b9ed95856accdc2",
   "metadata": {},
   "source": [
    "Then, the scores are aggregated together, by using a weighted average. As for now the coverage score is excluded. To make sure that pixels which contain no data (SCL score 0) are not selected, they are explicitly masked out of the final score. B01 score is excluded."
   ]
  },
  {
   "cell_type": "code",
   "execution_count": null,
   "id": "e1a5f38e07ba21b5",
   "metadata": {},
   "outputs": [],
   "source": [
    "weights = [1, 0.1, 0.5]\n",
    "score = aggregate_BAP_scores(dtc_score, date_score, coverage_score, weights)\n",
    "score = score.mask(scl.band(\"SCL\") == 0)"
   ]
  },
  {
   "cell_type": "markdown",
   "id": "fd3571eb9c4056b9",
   "metadata": {},
   "source": [
    "## Masking and Compositing"
   ]
  },
  {
   "cell_type": "markdown",
   "id": "8e71fd34b7f02d42",
   "metadata": {},
   "source": [
    "Next, a mask is created. This serves to mask every pixel, except the one with the highest score, for each month."
   ]
  },
  {
   "cell_type": "code",
   "execution_count": null,
   "id": "43a33914",
   "metadata": {},
   "outputs": [],
   "source": [
    "rank_mask = create_rank_mask(score)"
   ]
  },
  {
   "cell_type": "markdown",
   "id": "63817db1400f957f",
   "metadata": {},
   "source": [
    "Firstly, some bands of interest from Sentinel-2 are loaded. They are then masked by the BAP mask constructed above. Then they are aggregated per month, to obtain a composite image per month. By using the \"first\" process as an aggregator, the situation where there are potentially more than one days in a month selected by the algorithm is immediately handled."
   ]
  },
  {
   "cell_type": "code",
   "execution_count": null,
   "id": "a2933409",
   "metadata": {},
   "outputs": [],
   "source": [
    "rgb_bands = c.load_collection(\n",
    "    \"SENTINEL2_L2A\",\n",
    "    temporal_extent = temporal_extent,\n",
    "    bands = [\"B02\", \"B03\",\"B04\"],\n",
    "    max_cloud_cover=max_cloud_cover\n",
    ").filter_spatial(area)\n",
    "\n",
    "compositeRGB = rgb_bands.mask(rank_mask).mask(cloud_mask).aggregate_temporal_period(\"month\",\"first\")"
   ]
  },
  {
   "cell_type": "markdown",
   "id": "ed7fdff2",
   "metadata": {},
   "source": [
    "Next, the final results are downloaded and a composite image for the month of June is shown as an example."
   ]
  },
  {
   "cell_type": "code",
   "execution_count": null,
   "id": "ae7f5b0e",
   "metadata": {},
   "outputs": [],
   "source": [
    "job = compositeRGB.execute_batch(\n",
    "    title=\"BAP Composite\",\n",
    "    out_format=\"netcdf\"\n",
    ")\n",
    "results = job.get_results()\n",
    "results.download_files('./results/')"
   ]
  },
  {
   "cell_type": "markdown",
   "id": "d3107eca",
   "metadata": {},
   "source": [
    "A visualisation of the RGB figure is shown below"
   ]
  },
  {
   "cell_type": "code",
   "execution_count": null,
   "id": "86281891",
   "metadata": {},
   "outputs": [],
   "source": [
    "import xarray as xr\n",
    "composite_ds = xr.open_dataset('./results/openEO.nc')"
   ]
  },
  {
   "cell_type": "code",
   "execution_count": null,
   "id": "e76db574274bd357",
   "metadata": {},
   "outputs": [],
   "source": [
    "import numpy as np\n",
    "rgb_array=composite_ds.to_array(dim=\"bands\").sel(bands=[\"B04\",\"B03\",\"B02\"]).astype(np.float32)/10000"
   ]
  },
  {
   "cell_type": "code",
   "execution_count": null,
   "id": "5accdc26",
   "metadata": {},
   "outputs": [],
   "source": [
    "xr.plot.imshow(rgb_array,vmin=0,vmax=0.18,rgb=\"bands\",col='t',col_wrap=2)"
   ]
  },
  {
   "cell_type": "markdown",
   "id": "8d96c870",
   "metadata": {},
   "source": [
    "A visualisation of the date acquisition is shown"
   ]
  },
  {
   "cell_type": "code",
   "execution_count": null,
   "id": "f543d9cd",
   "metadata": {},
   "outputs": [],
   "source": [
    "print(composite_score_ds)\n"
   ]
  },
  {
   "cell_type": "code",
   "execution_count": null,
   "id": "f18bb3db",
   "metadata": {},
   "outputs": [],
   "source": [
    "import matplotlib.colors as mcolors\n",
    "composite_score_ds = xr.open_dataset('./results/date.nc')\n",
    "score_array = composite_score_ds.to_array(dim=\"bands\").sel(bands=[\"score\"]).squeeze().astype('float32')\n",
    "norm = mcolors.TwoSlopeNorm(vmin=1, vcenter=15, vmax=31)\n",
    "score_array.plot.imshow(cmap=\"RdYlGn\", norm=norm,col='t', col_wrap=2)"
   ]
  }
 ],
 "metadata": {
  "kernelspec": {
   "display_name": ".venv",
   "language": "python",
   "name": "python3"
  },
  "language_info": {
   "codemirror_mode": {
    "name": "ipython",
    "version": 3
   },
   "file_extension": ".py",
   "mimetype": "text/x-python",
   "name": "python",
   "nbconvert_exporter": "python",
   "pygments_lexer": "ipython3",
   "version": "3.13.7"
  }
 },
 "nbformat": 4,
 "nbformat_minor": 5
}
