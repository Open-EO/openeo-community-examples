{
 "cells": [
  {
   "cell_type": "code",
   "execution_count": 1,
   "id": "990ee69f-2a7b-4a19-9d9e-90b7cc34402d",
   "metadata": {},
   "outputs": [],
   "source": [
    "# !pip install scikit-learn"
   ]
  },
  {
   "cell_type": "code",
   "execution_count": 9,
   "id": "c51c2f31-7e6a-41fa-95ca-e371d3be861a",
   "metadata": {},
   "outputs": [
    {
     "name": "stdout",
     "output_type": "stream",
     "text": [
      "Authenticated using refresh token.\n"
     ]
    }
   ],
   "source": [
    "import openeo\n",
    "import scipy\n",
    "import numpy as np\n",
    "from openeo.api.process import Parameter\n",
    "from openeo.extra.spectral_indices import compute_indices\n",
    "\n",
    "\n",
    "connection = openeo.connect(\"openeo.vito.be\").authenticate_oidc()"
   ]
  },
  {
   "cell_type": "code",
   "execution_count": 10,
   "id": "180f59de-77b4-4d59-8f5a-2c144d43f242",
   "metadata": {},
   "outputs": [],
   "source": [
    "# define input parameter\n",
    "spatial_extent = Parameter.spatial_extent(\n",
    "    name=\"spatial_extent\", \n",
    "    description=\"Limits the data to process to the specified bounding box or polygons.\\\\n\\\\nFor raster data, the process loads the pixel into the data cube if the point at the pixel center intersects with the bounding box or any of the polygons (as defined in the Simple Features standard by the OGC).\\\\nFor vector data, the process loads the geometry into the data cube if the geometry is fully within the bounding box or any of the polygons (as defined in the Simple Features standard by the OGC). Empty geometries may only be in the data cube if no spatial extent has been provided.\\\\n\\\\nEmpty geometries are ignored.\\\\nSet this parameter to null to set no limit for the spatial extent.\"\n",
    "    )\n",
    "\n",
    "temporal_extent = Parameter.temporal_interval(\n",
    "    name=\"temporal_extent\", \n",
    "    description=\"Temporal extent specified as two-element array with start and end date/date-time.\"\n",
    "    # default=[\"2023-05-01\", \"2023-07-30\"],\n",
    "    )"
   ]
  },
  {
   "cell_type": "code",
   "execution_count": 11,
   "id": "4d3d5c94-189b-46a0-b1e0-9bdf4c93e48e",
   "metadata": {},
   "outputs": [],
   "source": [
    "def get_cloud_free_pixels(scl, data, reducer=\"median\"):\n",
    "    mask = (scl == 3) | (scl == 8) | (scl == 9) | (scl == 10)\n",
    "\n",
    "    # mask is a bit noisy, so we apply smoothening\n",
    "    # 2D gaussian kernel\n",
    "    g = scipy.signal.windows.gaussian(11, std=1.6)\n",
    "    kernel = np.outer(g, g)\n",
    "    kernel = kernel / kernel.sum()\n",
    "\n",
    "    # Morphological dilation of mask: convolution + threshold\n",
    "    mask = mask.apply_kernel(kernel)\n",
    "    mask = mask > 0.1\n",
    "\n",
    "    data_masked = data.mask(mask)\n",
    "\n",
    "    # now select Best Available Pixel based on the mask\n",
    "    return data_masked.reduce_dimension(reducer=reducer, dimension=\"t\")"
   ]
  },
  {
   "cell_type": "code",
   "execution_count": 12,
   "id": "40fda03e-37e1-49e1-b3bb-52e9aca718a9",
   "metadata": {},
   "outputs": [],
   "source": [
    "# preprocessing in openEO\n",
    "def prep_s2(date,aoi,reducer):\n",
    "    # load S2 pre-collection\n",
    "    s2_cube = connection.load_collection(\n",
    "        \"SENTINEL2_L2A\",\n",
    "        temporal_extent=date,\n",
    "        spatial_extent=aoi,\n",
    "        bands=[\"B02\", \"B03\", \"B04\", \"B08\",\"B12\"],\n",
    "        max_cloud_cover=80,\n",
    "    )\n",
    "    \n",
    "    s2_scl = connection.load_collection(\n",
    "        \"SENTINEL2_L2A\",\n",
    "        temporal_extent=date,\n",
    "        spatial_extent=aoi,\n",
    "        bands=[\"SCL\"],\n",
    "        max_cloud_cover=80,\n",
    "    )\n",
    "    \n",
    "    # Create a Pre-event cloud-free mosaic\n",
    "    cf_cube = get_cloud_free_pixels(s2_scl, s2_cube, reducer=reducer)\n",
    "\n",
    "    # calculate all indices\n",
    "    # what are the indices we need?\n",
    "    #== NBR NDFI Contrast GLCM Variance, Mean, Correlation, BAI, Angular moment, dissimilarity, homogenity\n",
    "    \n",
    "    # nbr = compute_indices(bap_cube, indices=[\"NBR\"])\n",
    "        # compute the spectral indices\n",
    "    indices_list = [\"NBR\", \"BAI\"]\n",
    "    indices = compute_indices(cf_cube, indices_list)\n",
    "\n",
    "    # calculate texture features\n",
    "    features_udf = openeo.UDF.from_file(\"features.py\")\n",
    "    features = cf_cube.apply_neighborhood(\n",
    "        process=features_udf,\n",
    "        size=[\n",
    "            {\"dimension\": \"x\", \"value\": 128, \"unit\": \"px\"},\n",
    "            {\"dimension\": \"y\", \"value\": 128, \"unit\": \"px\"},\n",
    "        ],\n",
    "        overlap=[\n",
    "            {\"dimension\": \"x\", \"value\": 0, \"unit\": \"px\"},\n",
    "            {\"dimension\": \"y\", \"value\": 0, \"unit\": \"px\"},\n",
    "        ],\n",
    "    )\n",
    "    features = features.rename_labels(dimension = \"bands\", target = [\"contrast\",\"homogeneity\",\"ASM\",\"variance\",\"NDFI\"])\n",
    "    \n",
    "    # combine the original bands with the computed indices\n",
    "    combined = cf_cube.merge_cubes(indices)\n",
    "    combined = combined.merge_cubes(features)\n",
    "    return combined"
   ]
  },
  {
   "cell_type": "code",
   "execution_count": 13,
   "id": "7e2e96fb-37cc-48d1-897a-67537b706c75",
   "metadata": {},
   "outputs": [],
   "source": [
    "s2_feature_cube_in = prep_s2(temporal_extent,spatial_extent,\"median\")\n"
   ]
  },
  {
   "cell_type": "code",
   "execution_count": 14,
   "id": "567c866b-8f6d-4116-a1cb-a37a41a7a1cc",
   "metadata": {},
   "outputs": [],
   "source": [
    "model = \"https://openeo.vito.be/openeo/1.2/jobs/j-25052516461141e0bbcca95d9541b623/results/items/ZWNjZTlmZWEwNGI4YzljNzZhYzc2YjQ1YjZiYTAwYzIwZjIxMWJkYTQ4NTZjMTRhYTQ0NzViOGU4ZWQ0MzNjZEBlZ2kuZXU=/da32856ccabf0e20b615da06941898b4/ml_model_metadata.json?expires=1748797341\""
   ]
  },
  {
   "cell_type": "code",
   "execution_count": 15,
   "id": "ee3ae232-58ce-4d23-a698-5d09ceb9a0c5",
   "metadata": {},
   "outputs": [],
   "source": [
    "inference = s2_feature_cube_in.predict_random_forest(\n",
    "    model=model,\n",
    "    dimension=\"bands\"\n",
    ")"
   ]
  },
  {
   "cell_type": "code",
   "execution_count": 16,
   "id": "4caa8e5f-db31-467b-8e06-bdec68437387",
   "metadata": {},
   "outputs": [
    {
     "name": "stderr",
     "output_type": "stream",
     "text": [
      "Preflight process graph validation raised: [ProcessParameterRequired] Process 'n/a' parameter 'spatial_extent' is required.\n"
     ]
    }
   ],
   "source": [
    "udp_randomfire = connection.save_user_defined_process(\n",
    "    user_defined_process_id=\"random_fire\",\n",
    "    process_graph=inference,\n",
    "    parameters=[temporal_extent, spatial_extent],\n",
    "    summary=\"Testing Forest fire\",\n",
    "    description=\"testing random forest model\",\n",
    "    public=True,\n",
    ")"
   ]
  },
  {
   "cell_type": "code",
   "execution_count": 18,
   "id": "d2464075-5b7c-48bc-a3fd-ef7b0169169e",
   "metadata": {},
   "outputs": [
    {
     "data": {
      "text/html": [
       "\n",
       "    <script>\n",
       "    if (!window.customElements || !window.customElements.get('openeo-process')) {\n",
       "        var el = document.createElement('script');\n",
       "        el.src = \"https://cdn.jsdelivr.net/npm/@openeo/vue-components@2/assets/openeo.min.js\";\n",
       "        document.head.appendChild(el);\n",
       "\n",
       "        var font = document.createElement('font');\n",
       "        font.as = \"font\";\n",
       "        font.type = \"font/woff2\";\n",
       "        font.crossOrigin = true;\n",
       "        font.href = \"https://use.fontawesome.com/releases/v5.13.0/webfonts/fa-solid-900.woff2\"\n",
       "        document.head.appendChild(font);\n",
       "    }\n",
       "    </script>\n",
       "    <openeo-process>\n",
       "        <script type=\"application/json\">{\"show-graph\": true, \"provide-download\": false, \"process\": {\"description\": \"testing random forest model\", \"id\": \"random_fire\", \"links\": [{\"href\": \"https://openeo.vito.be/openeo/1.2/processes/u:ecce9fea04b8c9c76ac76b45b6ba00c20f211bda4856c14aa4475b8e8ed433cd@egi.eu/random_fire\", \"rel\": \"canonical\", \"title\": \"Public URL for user-defined process 'random_fire'\"}], \"parameters\": [{\"description\": \"Temporal extent specified as two-element array with start and end date/date-time.\", \"name\": \"temporal_extent\", \"schema\": {\"items\": {\"anyOf\": [{\"format\": \"date-time\", \"subtype\": \"date-time\", \"type\": \"string\"}, {\"format\": \"date\", \"subtype\": \"date\", \"type\": \"string\"}, {\"type\": \"null\"}]}, \"maxItems\": 2, \"minItems\": 2, \"subtype\": \"temporal-interval\", \"type\": \"array\", \"uniqueItems\": true}}, {\"description\": \"Limits the data to process to the specified bounding box or polygons.\\\\n\\\\nFor raster data, the process loads the pixel into the data cube if the point at the pixel center intersects with the bounding box or any of the polygons (as defined in the Simple Features standard by the OGC).\\\\nFor vector data, the process loads the geometry into the data cube if the geometry is fully within the bounding box or any of the polygons (as defined in the Simple Features standard by the OGC). Empty geometries may only be in the data cube if no spatial extent has been provided.\\\\n\\\\nEmpty geometries are ignored.\\\\nSet this parameter to null to set no limit for the spatial extent.\", \"name\": \"spatial_extent\", \"schema\": [{\"properties\": {\"base\": {\"default\": null, \"description\": \"Base (optional, lower left corner, coordinate axis 3).\", \"type\": [\"number\", \"null\"]}, \"crs\": {\"anyOf\": [{\"examples\": [3857], \"minimum\": 1000, \"subtype\": \"epsg-code\", \"title\": \"EPSG Code\", \"type\": \"integer\"}, {\"subtype\": \"wkt2-definition\", \"title\": \"WKT2\", \"type\": \"string\"}], \"default\": 4326, \"description\": \"Coordinate reference system of the extent, specified as as [EPSG code](http://www.epsg-registry.org/) or [WKT2 CRS string](http://docs.opengeospatial.org/is/18-010r7/18-010r7.html). Defaults to `4326` (EPSG code 4326) unless the client explicitly requests a different coordinate reference system.\"}, \"east\": {\"description\": \"East (upper right corner, coordinate axis 1).\", \"type\": \"number\"}, \"height\": {\"default\": null, \"description\": \"Height (optional, upper right corner, coordinate axis 3).\", \"type\": [\"number\", \"null\"]}, \"north\": {\"description\": \"North (upper right corner, coordinate axis 2).\", \"type\": \"number\"}, \"south\": {\"description\": \"South (lower left corner, coordinate axis 2).\", \"type\": \"number\"}, \"west\": {\"description\": \"West (lower left corner, coordinate axis 1).\", \"type\": \"number\"}}, \"required\": [\"west\", \"south\", \"east\", \"north\"], \"subtype\": \"bounding-box\", \"title\": \"Bounding Box\", \"type\": \"object\"}, {\"description\": \"Limits the data cube to the bounding box of the given geometries in the vector data cube. For raster data, all pixels inside the bounding box that do not intersect with any of the polygons will be set to no data (`null`). Empty geometries are ignored.\", \"dimensions\": [{\"type\": \"geometry\"}], \"subtype\": \"datacube\", \"title\": \"Vector data cube\", \"type\": \"object\"}, {\"description\": \"Don't filter spatially. All data is included in the data cube.\", \"title\": \"No filter\", \"type\": \"null\"}]}], \"process_graph\": {\"apply1\": {\"arguments\": {\"data\": {\"from_node\": \"loadcollection2\"}, \"process\": {\"process_graph\": {\"eq1\": {\"arguments\": {\"x\": {\"from_parameter\": \"x\"}, \"y\": 3}, \"process_id\": \"eq\", \"result\": true}}}}, \"process_id\": \"apply\"}, \"apply2\": {\"arguments\": {\"data\": {\"from_node\": \"loadcollection2\"}, \"process\": {\"process_graph\": {\"eq2\": {\"arguments\": {\"x\": {\"from_parameter\": \"x\"}, \"y\": 8}, \"process_id\": \"eq\", \"result\": true}}}}, \"process_id\": \"apply\"}, \"apply3\": {\"arguments\": {\"data\": {\"from_node\": \"loadcollection2\"}, \"process\": {\"process_graph\": {\"eq3\": {\"arguments\": {\"x\": {\"from_parameter\": \"x\"}, \"y\": 9}, \"process_id\": \"eq\", \"result\": true}}}}, \"process_id\": \"apply\"}, \"apply4\": {\"arguments\": {\"data\": {\"from_node\": \"loadcollection2\"}, \"process\": {\"process_graph\": {\"eq4\": {\"arguments\": {\"x\": {\"from_parameter\": \"x\"}, \"y\": 10}, \"process_id\": \"eq\", \"result\": true}}}}, \"process_id\": \"apply\"}, \"apply5\": {\"arguments\": {\"data\": {\"from_node\": \"applykernel1\"}, \"process\": {\"process_graph\": {\"gt1\": {\"arguments\": {\"x\": {\"from_parameter\": \"x\"}, \"y\": 0.1}, \"process_id\": \"gt\", \"result\": true}}}}, \"process_id\": \"apply\"}, \"applydimension1\": {\"arguments\": {\"data\": {\"from_node\": \"reducedimension1\"}, \"dimension\": \"bands\", \"process\": {\"process_graph\": {\"add1\": {\"arguments\": {\"x\": {\"from_node\": \"arrayelement1\"}, \"y\": {\"from_node\": \"arrayelement2\"}}, \"process_id\": \"add\"}, \"add2\": {\"arguments\": {\"x\": {\"from_node\": \"power1\"}, \"y\": {\"from_node\": \"power2\"}}, \"process_id\": \"add\"}, \"arraycreate1\": {\"arguments\": {\"data\": [{\"from_node\": \"divide1\"}, {\"from_node\": \"divide2\"}]}, \"process_id\": \"array_create\", \"result\": true}, \"arrayelement1\": {\"arguments\": {\"data\": {\"from_parameter\": \"data\"}, \"index\": 3}, \"process_id\": \"array_element\"}, \"arrayelement2\": {\"arguments\": {\"data\": {\"from_parameter\": \"data\"}, \"index\": 4}, \"process_id\": \"array_element\"}, \"arrayelement3\": {\"arguments\": {\"data\": {\"from_parameter\": \"data\"}, \"index\": 2}, \"process_id\": \"array_element\"}, \"divide1\": {\"arguments\": {\"x\": {\"from_node\": \"subtract1\"}, \"y\": {\"from_node\": \"add1\"}}, \"process_id\": \"divide\"}, \"divide2\": {\"arguments\": {\"x\": 1.0, \"y\": {\"from_node\": \"add2\"}}, \"process_id\": \"divide\"}, \"power1\": {\"arguments\": {\"base\": {\"from_node\": \"subtract2\"}, \"p\": 2.0}, \"process_id\": \"power\"}, \"power2\": {\"arguments\": {\"base\": {\"from_node\": \"subtract3\"}, \"p\": 2.0}, \"process_id\": \"power\"}, \"subtract1\": {\"arguments\": {\"x\": {\"from_node\": \"arrayelement1\"}, \"y\": {\"from_node\": \"arrayelement2\"}}, \"process_id\": \"subtract\"}, \"subtract2\": {\"arguments\": {\"x\": 0.1, \"y\": {\"from_node\": \"arrayelement3\"}}, \"process_id\": \"subtract\"}, \"subtract3\": {\"arguments\": {\"x\": 0.06, \"y\": {\"from_node\": \"arrayelement1\"}}, \"process_id\": \"subtract\"}}}}, \"process_id\": \"apply_dimension\"}, \"applykernel1\": {\"arguments\": {\"border\": 0, \"data\": {\"from_node\": \"mergecubes3\"}, \"factor\": 1.0, \"kernel\": [[3.5713954074985053e-06, 2.0713152601434825e-05, 8.128458481216907e-05, 0.00021583600643790027, 0.0003877870659458747, 0.0004714291802648667, 0.0003877870659458747, 0.00021583600643790027, 8.128458481216907e-05, 2.0713152601434825e-05, 3.5713954074985053e-06], [2.0713152601434825e-05, 0.00012013082891620589, 0.00047142918026486666, 0.001251791982720796, 0.002249062833237385, 0.002734165063631252, 0.002249062833237385, 0.001251791982720796, 0.00047142918026486666, 0.00012013082891620589, 2.0713152601434825e-05], [8.128458481216907e-05, 0.00047142918026486666, 0.0018500286230458429, 0.004912404863932368, 0.008825992939554635, 0.01072967868685566, 0.008825992939554635, 0.004912404863932368, 0.0018500286230458429, 0.00047142918026486666, 8.128458481216907e-05], [0.00021583600643790027, 0.001251791982720796, 0.004912404863932368, 0.013043971994042173, 0.023435772887621185, 0.028490654205643125, 0.023435772887621185, 0.013043971994042173, 0.004912404863932368, 0.001251791982720796, 0.00021583600643790027], [0.0003877870659458747, 0.002249062833237385, 0.008825992939554635, 0.023435772887621185, 0.04210645738054507, 0.05118843414323286, 0.04210645738054507, 0.023435772887621185, 0.008825992939554635, 0.002249062833237385, 0.0003877870659458747], [0.0004714291802648667, 0.002734165063631252, 0.01072967868685566, 0.028490654205643125, 0.05118843414323286, 0.0622293100166331, 0.05118843414323286, 0.028490654205643125, 0.01072967868685566, 0.002734165063631252, 0.0004714291802648667], [0.0003877870659458747, 0.002249062833237385, 0.008825992939554635, 0.023435772887621185, 0.04210645738054507, 0.05118843414323286, 0.04210645738054507, 0.023435772887621185, 0.008825992939554635, 0.002249062833237385, 0.0003877870659458747], [0.00021583600643790027, 0.001251791982720796, 0.004912404863932368, 0.013043971994042173, 0.023435772887621185, 0.028490654205643125, 0.023435772887621185, 0.013043971994042173, 0.004912404863932368, 0.001251791982720796, 0.00021583600643790027], [8.128458481216907e-05, 0.00047142918026486666, 0.0018500286230458429, 0.004912404863932368, 0.008825992939554635, 0.01072967868685566, 0.008825992939554635, 0.004912404863932368, 0.0018500286230458429, 0.00047142918026486666, 8.128458481216907e-05], [2.0713152601434825e-05, 0.00012013082891620589, 0.00047142918026486666, 0.001251791982720796, 0.002249062833237385, 0.002734165063631252, 0.002249062833237385, 0.001251791982720796, 0.00047142918026486666, 0.00012013082891620589, 2.0713152601434825e-05], [3.5713954074985053e-06, 2.0713152601434825e-05, 8.128458481216907e-05, 0.00021583600643790027, 0.0003877870659458747, 0.0004714291802648667, 0.0003877870659458747, 0.00021583600643790027, 8.128458481216907e-05, 2.0713152601434825e-05, 3.5713954074985053e-06]], \"replace_invalid\": 0}, \"process_id\": \"apply_kernel\"}, \"applyneighborhood1\": {\"arguments\": {\"data\": {\"from_node\": \"reducedimension1\"}, \"overlap\": [{\"dimension\": \"x\", \"unit\": \"px\", \"value\": 0}, {\"dimension\": \"y\", \"unit\": \"px\", \"value\": 0}], \"process\": {\"process_graph\": {\"runudf1\": {\"arguments\": {\"data\": {\"from_parameter\": \"data\"}, \"runtime\": \"Python\", \"udf\": \"import xarray as xr\\nimport numpy as np\\nfrom openeo.udf import XarrayDataCube\\nfrom skimage.feature import graycomatrix, graycoprops\\n\\n\\ndef apply_datacube(cube: XarrayDataCube, context: dict) -> XarrayDataCube:\\n    \\n    # Parameters\\n    window_size = 33\\n    pad = window_size // 2\\n    levels = 256  # For 8-bit images\\n    \\n    # Load Data\\n    data = cube.get_array()  # shape: (t, bands, y, x)\\n    \\n    #first get NDFI\\n    b08 = data.sel(bands=\\\"B08\\\")\\n    b12 = data.sel(bands=\\\"B12\\\")\\n\\n    # Compute mean values\\n    avg_b08 = b08.mean()\\n    avg_b12 = b12.mean()\\n\\n    # Calculate NDFI\\n    ndfi = ((b12 / avg_b12) - (b08 / avg_b08)) / (b08 / avg_b08)\\n    \\n    # Padding the image to handle border pixels for GLCM\\n    padded = np.pad(b12, pad_width=pad, mode='reflect')\\n\\n    # Normalize to 0\\u2013255 range\\n    img_norm = (padded - padded.min()) / (padded.max() - padded.min())\\n    padded = (img_norm * 255).astype(np.uint8)\\n    \\n    # Initialize feature maps\\n    shape = b12.shape\\n    contrast = np.zeros(shape)\\n    homogeneity = np.zeros(shape)\\n    ASM = np.zeros(shape)\\n    variance = np.zeros(shape)\\n    \\n    for i in range(pad, pad + shape[0]):\\n        for j in range(pad, pad + shape[1]):\\n            window = padded[i - pad:i + pad + 1, j - pad:j + pad + 1]\\n            \\n            # Compute GLCM\\n            glcm = graycomatrix(window, distances=[5], angles=[0], levels=levels, symmetric=True, normed=True)\\n            \\n            # Texture features\\n            contrast[i - pad, j - pad] = graycoprops(glcm, 'contrast')[0, 0]\\n            homogeneity[i - pad, j - pad] = graycoprops(glcm, 'homogeneity')[0, 0]\\n            ASM[i - pad, j - pad] = graycoprops(glcm, 'ASM')[0, 0]\\n            variance[i - pad, j - pad] = np.var(window)\\n\\n    all_texture = np.stack([contrast,homogeneity,ASM,variance,ndfi])\\n    # create a data cube with all the calculated properties\\n    textures = xarray.DataArray(\\n        data=all_texture,\\n        dims=[\\\"bands\\\", \\\"y\\\", \\\"x\\\"],\\n        coords={\\\"bands\\\": [\\\"contrast\\\",\\\"homogeneity\\\",\\\"ASM\\\",\\\"variance\\\",\\\"NDFI\\\"], \\\"y\\\": cube.array.y, \\\"x\\\": cube.array.x},\\n    )\\n\\n    return XarrayDataCube(textures)\"}, \"process_id\": \"run_udf\", \"result\": true}}}, \"size\": [{\"dimension\": \"x\", \"unit\": \"px\", \"value\": 128}, {\"dimension\": \"y\", \"unit\": \"px\", \"value\": 128}]}, \"process_id\": \"apply_neighborhood\"}, \"loadcollection1\": {\"arguments\": {\"bands\": [\"B02\", \"B03\", \"B04\", \"B08\", \"B12\"], \"id\": \"SENTINEL2_L2A\", \"properties\": {\"eo:cloud_cover\": {\"process_graph\": {\"lte1\": {\"arguments\": {\"x\": {\"from_parameter\": \"value\"}, \"y\": 80}, \"process_id\": \"lte\", \"result\": true}}}}, \"spatial_extent\": {\"from_parameter\": \"spatial_extent\"}, \"temporal_extent\": {\"from_parameter\": \"temporal_extent\"}}, \"process_id\": \"load_collection\"}, \"loadcollection2\": {\"arguments\": {\"bands\": [\"SCL\"], \"id\": \"SENTINEL2_L2A\", \"properties\": {\"eo:cloud_cover\": {\"process_graph\": {\"lte2\": {\"arguments\": {\"x\": {\"from_parameter\": \"value\"}, \"y\": 80}, \"process_id\": \"lte\", \"result\": true}}}}, \"spatial_extent\": {\"from_parameter\": \"spatial_extent\"}, \"temporal_extent\": {\"from_parameter\": \"temporal_extent\"}}, \"process_id\": \"load_collection\"}, \"loadmlmodel1\": {\"arguments\": {\"id\": \"https://openeo.vito.be/openeo/1.2/jobs/j-25052516461141e0bbcca95d9541b623/results/items/ZWNjZTlmZWEwNGI4YzljNzZhYzc2YjQ1YjZiYTAwYzIwZjIxMWJkYTQ4NTZjMTRhYTQ0NzViOGU4ZWQ0MzNjZEBlZ2kuZXU=/da32856ccabf0e20b615da06941898b4/ml_model_metadata.json?expires=1748797341\"}, \"process_id\": \"load_ml_model\"}, \"mask1\": {\"arguments\": {\"data\": {\"from_node\": \"loadcollection1\"}, \"mask\": {\"from_node\": \"apply5\"}}, \"process_id\": \"mask\"}, \"mergecubes1\": {\"arguments\": {\"cube1\": {\"from_node\": \"apply1\"}, \"cube2\": {\"from_node\": \"apply2\"}, \"overlap_resolver\": {\"process_graph\": {\"or1\": {\"arguments\": {\"x\": {\"from_parameter\": \"x\"}, \"y\": {\"from_parameter\": \"y\"}}, \"process_id\": \"or\", \"result\": true}}}}, \"process_id\": \"merge_cubes\"}, \"mergecubes2\": {\"arguments\": {\"cube1\": {\"from_node\": \"mergecubes1\"}, \"cube2\": {\"from_node\": \"apply3\"}, \"overlap_resolver\": {\"process_graph\": {\"or2\": {\"arguments\": {\"x\": {\"from_parameter\": \"x\"}, \"y\": {\"from_parameter\": \"y\"}}, \"process_id\": \"or\", \"result\": true}}}}, \"process_id\": \"merge_cubes\"}, \"mergecubes3\": {\"arguments\": {\"cube1\": {\"from_node\": \"mergecubes2\"}, \"cube2\": {\"from_node\": \"apply4\"}, \"overlap_resolver\": {\"process_graph\": {\"or3\": {\"arguments\": {\"x\": {\"from_parameter\": \"x\"}, \"y\": {\"from_parameter\": \"y\"}}, \"process_id\": \"or\", \"result\": true}}}}, \"process_id\": \"merge_cubes\"}, \"mergecubes4\": {\"arguments\": {\"cube1\": {\"from_node\": \"reducedimension1\"}, \"cube2\": {\"from_node\": \"renamelabels1\"}}, \"process_id\": \"merge_cubes\"}, \"mergecubes5\": {\"arguments\": {\"cube1\": {\"from_node\": \"mergecubes4\"}, \"cube2\": {\"from_node\": \"renamelabels2\"}}, \"process_id\": \"merge_cubes\"}, \"reducedimension1\": {\"arguments\": {\"data\": {\"from_node\": \"mask1\"}, \"dimension\": \"t\", \"reducer\": {\"process_graph\": {\"median1\": {\"arguments\": {\"data\": {\"from_parameter\": \"data\"}}, \"process_id\": \"median\", \"result\": true}}}}, \"process_id\": \"reduce_dimension\"}, \"reducedimension2\": {\"arguments\": {\"context\": {\"from_node\": \"loadmlmodel1\"}, \"data\": {\"from_node\": \"mergecubes5\"}, \"dimension\": \"bands\", \"reducer\": {\"process_graph\": {\"predictrandomforest1\": {\"arguments\": {\"data\": {\"from_parameter\": \"data\"}, \"model\": {\"from_parameter\": \"context\"}}, \"process_id\": \"predict_random_forest\", \"result\": true}}}}, \"process_id\": \"reduce_dimension\", \"result\": true}, \"renamelabels1\": {\"arguments\": {\"data\": {\"from_node\": \"applydimension1\"}, \"dimension\": \"bands\", \"target\": [\"NBR\", \"BAI\"]}, \"process_id\": \"rename_labels\"}, \"renamelabels2\": {\"arguments\": {\"data\": {\"from_node\": \"applyneighborhood1\"}, \"dimension\": \"bands\", \"target\": [\"contrast\", \"homogeneity\", \"ASM\", \"variance\", \"NDFI\"]}, \"process_id\": \"rename_labels\"}}, \"public\": true, \"summary\": \"Testing Forest fire\"}}</script>\n",
       "    </openeo-process>\n",
       "    "
      ],
      "text/plain": [
       "<openeo.rest.udp.RESTUserDefinedProcess at 0x7f5d340dc810>"
      ]
     },
     "execution_count": 18,
     "metadata": {},
     "output_type": "execute_result"
    }
   ],
   "source": [
    "udp_randomfire"
   ]
  },
  {
   "cell_type": "code",
   "execution_count": null,
   "id": "3c5437a1-053d-49d0-af83-ff437aeffe13",
   "metadata": {},
   "outputs": [],
   "source": [
    "public_url = \"https://openeo.vito.be/openeo/1.2/processes/u:ecce9fea04b8c9c76ac76b45b6ba00c20f211bda4856c14aa4475b8e8ed433cd@egi.eu/random_fire\""
   ]
  },
  {
   "cell_type": "code",
   "execution_count": 22,
   "id": "854db3c9-21f2-4e41-a114-0f99c94b4416",
   "metadata": {},
   "outputs": [],
   "source": [
    "# reuse the model directly in the webeditor:\n",
    "job_id = \"j-2505251437454a3db3af475c7f74bc3a\"\n",
    "\n",
    "{\n",
    "  \"process_graph\": {\n",
    "    \"random1\": {\n",
    "      \"arguments\": {\n",
    "        \"spatial_extent\": {\n",
    "          \"east\": -118.10448985345741,\n",
    "          \"north\": 34.22527587881902,\n",
    "          \"south\": 34.206163644370264,\n",
    "          \"west\": -118.14752510292374\n",
    "        },\n",
    "        \"temporal_extent\": [\n",
    "          \"2025-01-01T00:00:00Z\",\n",
    "          \"2025-01-15T00:00:00Z\"\n",
    "        ]\n",
    "      },\n",
    "      \"process_id\": \"random_fire\",\n",
    "      \"result\": true\n",
    "    }\n",
    "  }\n",
    "}"
   ]
  },
  {
   "cell_type": "code",
   "execution_count": null,
   "id": "f92e67cd-a0e7-4353-84e7-17dfdf45db01",
   "metadata": {},
   "outputs": [],
   "source": []
  },
  {
   "cell_type": "code",
   "execution_count": null,
   "id": "5230b771-cb9a-4303-989a-9f4c834f4d44",
   "metadata": {},
   "outputs": [],
   "source": []
  }
 ],
 "metadata": {
  "kernelspec": {
   "display_name": "OpenEO",
   "language": "python",
   "name": "openeo"
  },
  "language_info": {
   "codemirror_mode": {
    "name": "ipython",
    "version": 3
   },
   "file_extension": ".py",
   "mimetype": "text/x-python",
   "name": "python",
   "nbconvert_exporter": "python",
   "pygments_lexer": "ipython3",
   "version": "3.11.9"
  }
 },
 "nbformat": 4,
 "nbformat_minor": 5
}
