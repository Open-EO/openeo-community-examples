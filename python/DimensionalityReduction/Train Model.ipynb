{
 "cells": [
  {
   "cell_type": "markdown",
   "id": "1701bb91",
   "metadata": {},
   "source": [
    "# Example Training model"
   ]
  },
  {
   "cell_type": "code",
   "execution_count": null,
   "id": "0aaf581e",
   "metadata": {},
   "outputs": [],
   "source": [
    "import xarray as xr\n",
    "from pathlib import Path\n",
    "import joblib\n",
    "import pickle\n",
    "from sklearn.decomposition import PCA\n",
    "from sklearn.manifold import TSNE, Isomap as Isomap, SpectralEmbedding as SE, LocallyLinearEmbedding as LLE\n",
    "from umap import  UMAP\n",
    "import numpy as np"
   ]
  },
  {
   "cell_type": "code",
   "execution_count": 2,
   "id": "561b1a8c",
   "metadata": {},
   "outputs": [],
   "source": [
    "## creates a output directory if it doesn't exist.\n",
    "base_path = Path(\"results\")\n",
    "if not base_path.is_dir():\n",
    "    base_path.mkdir()"
   ]
  },
  {
   "cell_type": "code",
   "execution_count": null,
   "id": "06a2245d",
   "metadata": {},
   "outputs": [
    {
     "name": "stdout",
     "output_type": "stream",
     "text": [
      "<class 'sklearn.manifold._spectral_embedding.SpectralEmbedding'>\n"
     ]
    }
   ],
   "source": [
    "MODEL_CLASS = PCA\n",
    "\n",
    "def train_model(cube):\n",
    "    \"\"\"\n",
    "    Applies given model class on a given data cube for dimensionality reduction. \n",
    "    The input cube is processed to handle missing values and ensure the correct data format.\n",
    "\n",
    "    Note: The function name and arguments are defined by the UDF API.\n",
    "    More information can be found here:\n",
    "    https://open-eo.github.io/openeo-python-client/udf.html#udf-function-names-and-signatures\n",
    "\n",
    "    :param cube: The data cube on which dimensionality reduction will be applied. It must be an `xr.DataArray`.\n",
    "    :return: A fitted dimensionality reduction model\n",
    "    \"\"\"\n",
    "    # Fill NaNs and cast to float32\n",
    "    cube = cube.fillna(0).astype(\"float32\")\n",
    "\n",
    "    # Ensure dimension order ('bands', 'y', 'x')\n",
    "    cube = cube.transpose('bands', 'y', 'x')\n",
    "\n",
    "    # Reshape to (pixels, bands)\n",
    "    bands, y, x = cube.shape\n",
    "    data = cube.values.reshape((bands, y * x)).T  # shape: (pixels, bands)\n",
    "\n",
    "    # Apply Dimensionality reduction\n",
    "    n_components = 3\n",
    "    model = MODEL_CLASS(n_components=n_components, random_state=42)\n",
    "    model.fit(data)\n",
    "\n",
    "    return model\n",
    "\n",
    "\n",
    "# Load the data cube\n",
    "base_path = Path(\".\")  # or your actual path\n",
    "ds = xr.open_dataset(base_path / \"master_S2_cube.nc\")\n",
    "\n",
    "# Extract valid band variables and stack them into a DataArray\n",
    "band_vars = [var for var in ds.data_vars if ds[var].dtype.kind in 'fc' and set(ds[var].dims) == {'y', 'x'}]\n",
    "cube = xr.concat([ds[var] for var in band_vars], dim=\"bands\")\n",
    "cube = cube.assign_coords(bands=band_vars)\n",
    "\n",
    "# Train the dimensionality reduction model\n",
    "model = train_model(cube)\n",
    "print(type(model))\n",
    "\n",
    "# Save the trained dimensionality reduction model\n",
    "model_path = base_path / \"dim_reduction.pkl\"\n",
    "with open(model_path, \"wb\") as f:\n",
    "    pickle.dump(model, f)"
   ]
  },
  {
   "cell_type": "code",
   "execution_count": 5,
   "id": "acc3d350",
   "metadata": {},
   "outputs": [
    {
     "name": "stdout",
     "output_type": "stream",
     "text": [
      "['c:\\\\Users\\\\wannijnj\\\\AppData\\\\Local\\\\anaconda3\\\\envs\\\\weed', 'c:\\\\Users\\\\wannijnj\\\\AppData\\\\Local\\\\anaconda3\\\\envs\\\\weed\\\\Lib\\\\site-packages']\n"
     ]
    }
   ],
   "source": [
    "!python -c \"import site; print(site.getsitepackages())\"\n"
   ]
  },
  {
   "cell_type": "code",
   "execution_count": 3,
   "id": "8b112ed5",
   "metadata": {},
   "outputs": [],
   "source": [
    "import os\n",
    "import zipfile\n",
    "\n",
    "def zip_dir(folder_path, output_path, exclude_patterns=None):\n",
    "    exclude_patterns = exclude_patterns or []\n",
    "    \n",
    "    with zipfile.ZipFile(output_path, 'w', zipfile.ZIP_DEFLATED) as zipf:\n",
    "        for root, dirs, files in os.walk(folder_path):\n",
    "            for file in files:\n",
    "                file_path = os.path.join(root, file)\n",
    "                # Check if file matches exclude patterns\n",
    "                if any(fnmatch.fnmatch(file_path, pattern) for pattern in exclude_patterns):\n",
    "                    continue\n",
    "                arcname = os.path.relpath(file_path, folder_path)\n",
    "                zipf.write(file_path, arcname)\n",
    "\n",
    "import fnmatch\n",
    "\n",
    "exclude_patterns = [\n",
    "    \"*/dist-info/*\",\n",
    "    \"*.pyc\",\n",
    "    \"*/__pycache__/*\",\n",
    "    \"easy_install.py\",\n",
    "    \"pip*\",\n",
    "    \"isympy.py\"\n",
    "]\n",
    "folder = r'C:\\Users\\wannijnj\\AppData\\Local\\anaconda3\\envs\\env-dim-reduction-models\\Lib\\site-packages'\n",
    "\n",
    "zip_dir(folder, r\"C:\\Users\\wannijnj\\Documents\\Projects\\dim-reduction-udf-deps-v01.zip\", exclude_patterns)"
   ]
  }
 ],
 "metadata": {
  "kernelspec": {
   "display_name": "udf_dim_reduction_depencies",
   "language": "python",
   "name": "python3"
  },
  "language_info": {
   "codemirror_mode": {
    "name": "ipython",
    "version": 3
   },
   "file_extension": ".py",
   "mimetype": "text/x-python",
   "name": "python",
   "nbconvert_exporter": "python",
   "pygments_lexer": "ipython3",
   "version": "3.11.13"
  }
 },
 "nbformat": 4,
 "nbformat_minor": 5
}
