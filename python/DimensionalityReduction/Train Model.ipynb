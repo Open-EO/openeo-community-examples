{
 "cells": [
  {
   "cell_type": "markdown",
   "id": "1701bb91",
   "metadata": {},
   "source": [
    "# Example Training model"
   ]
  },
  {
   "cell_type": "markdown",
   "id": "6905d732",
   "metadata": {},
   "source": [
    "This notebook processes a satellite image data cube stored in NetCDF format, prepares it for modeling, and trains a machine learning model using band data."
   ]
  },
  {
   "cell_type": "code",
   "execution_count": 1,
   "id": "4d3c940a",
   "metadata": {},
   "outputs": [],
   "source": [
    "import xarray as xr\n",
    "from pathlib import Path\n",
    "import joblib\n",
    "import pickle\n",
    "from sklearn.decomposition import PCA\n",
    "import numpy as np\n",
    "import netCDF4"
   ]
  },
  {
   "cell_type": "markdown",
   "id": "ed611c62",
   "metadata": {},
   "source": [
    "Define the model class you want to train.\n",
    "\n",
    "**Note:** Replace MODEL_CLASS with a specific model class like PCA, Isomap, or any scikit-learn-compatible model."
   ]
  },
  {
   "cell_type": "code",
   "execution_count": 7,
   "id": "cf124f8a",
   "metadata": {},
   "outputs": [],
   "source": [
    "MODEL_CLASS = PCA\n",
    "MODEL_PARAMS = {\n",
    "    'random_state': 42\n",
    "}\n"
   ]
  },
  {
   "cell_type": "markdown",
   "id": "d05f25f6",
   "metadata": {},
   "source": [
    "We define a base directory where results can be stored and ensure it exists:"
   ]
  },
  {
   "cell_type": "code",
   "execution_count": 3,
   "id": "21a58c00",
   "metadata": {},
   "outputs": [],
   "source": [
    "# Paths\n",
    "base_path = Path(\"results\")\n",
    "if not base_path.is_dir():\n",
    "    base_path.mkdir()\n"
   ]
  },
  {
   "cell_type": "markdown",
   "id": "09d27cc7",
   "metadata": {},
   "source": [
    "We also define the input path to the satellite cube:\n"
   ]
  },
  {
   "cell_type": "code",
   "execution_count": 4,
   "id": "249f23e0",
   "metadata": {},
   "outputs": [],
   "source": [
    "\n",
    "input_cube_path = r'C:\\Users\\wannijnj\\Documents\\Projects\\WEED\\eo_processing\\notebooks\\results\\master_S2_cube.nc'"
   ]
  },
  {
   "cell_type": "markdown",
   "id": "0f43a247",
   "metadata": {},
   "source": [
    "The train_model function prepares the data and fits a dimensionality reduction model:\n"
   ]
  },
  {
   "cell_type": "code",
   "execution_count": 5,
   "id": "456637ef",
   "metadata": {},
   "outputs": [],
   "source": [
    "def train_model(cube):\n",
    "    cube = cube.fillna(0).astype(\"float32\")\n",
    "    cube = cube.transpose('bands', 'y', 'x')\n",
    "    bands, y, x = cube.shape\n",
    "    data = cube.values.reshape((bands, y * x)).T  # (pixels, bands)\n",
    "    print(f\"Training data shape: {data.shape}\")\n",
    "\n",
    "    model = MODEL_CLASS(n_components=3, **MODEL_PARAMS)\n",
    "    model.fit(data)\n",
    "    return model"
   ]
  },
  {
   "cell_type": "markdown",
   "id": "4d8eb9ec",
   "metadata": {},
   "source": [
    "We identify and stack all float-type variables with dimensions ('y', 'x') and then train the model using the preprocessed cube:"
   ]
  },
  {
   "cell_type": "code",
   "execution_count": 8,
   "id": "06a2245d",
   "metadata": {},
   "outputs": [
    {
     "name": "stdout",
     "output_type": "stream",
     "text": [
      "Training data shape: (25921, 104)\n",
      "Trained model type: <class 'sklearn.decomposition._pca.PCA'>\n"
     ]
    }
   ],
   "source": [
    "# Load dataset\n",
    "ds = xr.open_dataset(input_cube_path)\n",
    "\n",
    "# Extract band variables with dims ('y', 'x') and float types\n",
    "band_vars = [var for var in ds.data_vars if ds[var].dtype.kind in 'fc' and set(ds[var].dims) == {'y', 'x'}]\n",
    "\n",
    "# Stack bands\n",
    "cube = xr.concat([ds[var] for var in band_vars], dim=\"bands\")\n",
    "cube = cube.assign_coords(bands=band_vars)\n",
    "\n",
    "# Train model\n",
    "model = train_model(cube)\n",
    "print(f\"Trained model type: {type(model)}\")\n",
    "\n",
    "\n"
   ]
  }
 ],
 "metadata": {
  "kernelspec": {
   "display_name": "sklonnx",
   "language": "python",
   "name": "python3"
  },
  "language_info": {
   "codemirror_mode": {
    "name": "ipython",
    "version": 3
   },
   "file_extension": ".py",
   "mimetype": "text/x-python",
   "name": "python",
   "nbconvert_exporter": "python",
   "pygments_lexer": "ipython3",
   "version": "3.11.0"
  }
 },
 "nbformat": 4,
 "nbformat_minor": 5
}
